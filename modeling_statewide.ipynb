{
 "cells": [
  {
   "cell_type": "code",
   "execution_count": 1,
   "metadata": {},
   "outputs": [],
   "source": [
    "# import libraries\n",
    "import os\n",
    "import matplotlib.pyplot as plt\n",
    "import tensorflow as tf\n",
    "from tensorflow import keras\n",
    "from keras.layers import Dense\n",
    "from tensorflow.keras.models import Model\n",
    "from tensorflow.keras import Input\n",
    "from tensorflow.keras.optimizers import Adam\n",
    "from keras import Sequential\n",
    "from tensorflow.keras.preprocessing.image import ImageDataGenerator\n",
    "from keras import callbacks\n",
    "from keras.callbacks import EarlyStopping\n",
    "from keras.layers import Dropout\n",
    "from keras.layers import Flatten\n",
    "from keras.layers import Conv2D\n",
    "from keras.layers import MaxPool2D\n",
    "from keras.layers import ReLU\n",
    "import numpy as np\n",
    "\n",
    "from ipynb.fs.full.models import make_vgg16, make_nn\n",
    "import pandas as pd\n",
    "from sklearn import preprocessing\n",
    "import cv2\n",
    "\n",
    "from sklearn.metrics import confusion_matrix\n",
    "from sklearn.metrics import ConfusionMatrixDisplay\n",
    "from sklearn.metrics import classification_report"
   ]
  },
  {
   "cell_type": "markdown",
   "metadata": {},
   "source": [
    "### Load Data"
   ]
  },
  {
   "cell_type": "code",
   "execution_count": 3,
   "metadata": {},
   "outputs": [],
   "source": [
    "# import data\n",
    "suff = '_8.29'\n",
    "cols = ['wpop_diff', 'bpop_diff', 'area_diff', 'perim_diff','label', 'image_file']\n",
    "over_cols = ['wpop_diff', 'bpop_diff', 'area_diff', 'image_file', 'label']\n",
    "\n",
    "demo_train_df = pd.read_csv(f'Outputs/statewide_train_data{suff}.csv', header=0, names=cols)\n",
    "demo_test_df = pd.read_csv(f'Outputs/statewide_test_data{suff}.csv', header=0, names=cols)\n",
    "demo_val_df = pd.read_csv(f'Outputs/statewide_val_data{suff}.csv', header=0, names=cols)\n",
    "\n",
    "over_demo_train_df = pd.read_csv('Outputs/statewide_train_data_oversample.csv', header=0, names=over_cols)\n",
    "over_demo_test_df = pd.read_csv('Outputs/statewide_test_data_oversample.csv', header=0, names=over_cols)\n",
    "over_demo_val_df = pd.read_csv('Outputs/statewide_val_data_oversample.csv', header=0, names=over_cols)"
   ]
  },
  {
   "cell_type": "markdown",
   "metadata": {},
   "source": [
    "### Helper Functions"
   ]
  },
  {
   "cell_type": "code",
   "execution_count": null,
   "metadata": {},
   "outputs": [],
   "source": [
    "def gen_report(fit_model, test_data, test_labels, title):\n",
    "    \"\"\"\n",
    "    Generates confusion matrix and classification report for given model on provided test data.\n",
    "\n",
    "    Paramters: \n",
    "        fit_model: Keras.model - compiled Keras model\n",
    "        test_data: np.array, pd.Dataframe column, list - X input for test data\n",
    "        test_labels: np.array, pd.Dataframe column, list - y input for test data (labels)\n",
    "        title: str - title of confusion matrix\n",
    "\n",
    "    return: \n",
    "        None - generates the confusion matrix that can then be saved and prints the classification report \n",
    "    \"\"\"\n",
    "    # make model predictions on test data\n",
    "    preds = fit_model.predict(test_data)\n",
    "\n",
    "    # get Boolean label from continuous prediction confidence score\n",
    "    pred_labels = [False if x < 0.5 else True for x in preds]\n",
    "\n",
    "    # generate and show confusion matrix\n",
    "    conf = confusion_matrix(test_labels, pred_labels)\n",
    "    disp = ConfusionMatrixDisplay(confusion_matrix=conf)\n",
    "    disp.plot(cmap=plt.cm.Blues)\n",
    "    plt.title(title)\n",
    "    plt.show()\n",
    "\n",
    "    # print classification report\n",
    "    print(classification_report(test_labels, pred_labels))"
   ]
  },
  {
   "cell_type": "code",
   "execution_count": 4,
   "metadata": {},
   "outputs": [],
   "source": [
    "def normalize(df, cols):\n",
    "    \"\"\"\n",
    "    Min-max normalizes provided columns within dataframe.\n",
    "\n",
    "    Paramters: \n",
    "        df: pd.Dataframe - dataframe with columns to normalize\n",
    "        cols: list - list of column names as strings to normalize\n",
    "\n",
    "    return: \n",
    "        None - Normalizes the provided columns in df in place\n",
    "    \"\"\"\n",
    "    x = df[cols].values\n",
    "    min_max_scaler = preprocessing.MinMaxScaler()\n",
    "    x_scaled = min_max_scaler.fit_transform(x)\n",
    "    df[cols] = x_scaled"
   ]
  },
  {
   "cell_type": "code",
   "execution_count": null,
   "metadata": {},
   "outputs": [],
   "source": [
    "def img_array(df_image_col, subset=None, resize=True):\n",
    "    \"\"\"\n",
    "    Converts images to np.array format for use in Keras models.\n",
    "\n",
    "    Paramters: \n",
    "        df_image_col: pd.Dataframe column, list - column in dataframe with image file names as strings\n",
    "        subset: str - subset that the data belongs to. One of three options: 'train', 'test', 'val'\n",
    "        resize: Boolean - whether the images have been preprocessed/resized. Default=False\n",
    "\n",
    "    return: \n",
    "        ret_arr: np.array - numerical representation of images in single array\n",
    "    \"\"\"\n",
    "    # initialize return array\n",
    "    ret_arr = []\n",
    "\n",
    "    # loop through image file names\n",
    "    for i in df_image_col:\n",
    "\n",
    "        # read and append image to return array\n",
    "        if resize:\n",
    "            im = cv2.imread(f'Outputs/images/statewide/{subset}/processed/' + i)\n",
    "        \n",
    "        else:\n",
    "            im = cv2.imread('Outputs/images/statewide/' + i)\n",
    "        \n",
    "        ret_arr.append(im)\n",
    "        \n",
    "    return np.array(ret_arr, dtype=object)"
   ]
  },
  {
   "cell_type": "markdown",
   "metadata": {},
   "source": [
    "### Final Data Preparation"
   ]
  },
  {
   "cell_type": "code",
   "execution_count": 5,
   "metadata": {},
   "outputs": [],
   "source": [
    "# normalize numerical features\n",
    "normal = True\n",
    "\n",
    "if normal:\n",
    "    df_list = [demo_test_df, demo_train_df, demo_val_df] #, over_demo_test_df, over_demo_train_df, over_demo_val_df]\n",
    "    norm_cols = ['wpop_diff', 'bpop_diff', 'area_diff', 'perim_diff']\n",
    "    for data in df_list:\n",
    "        normalize(data, norm_cols)"
   ]
  },
  {
   "cell_type": "code",
   "execution_count": 6,
   "metadata": {},
   "outputs": [
    {
     "data": {
      "text/html": [
       "<div>\n",
       "<style scoped>\n",
       "    .dataframe tbody tr th:only-of-type {\n",
       "        vertical-align: middle;\n",
       "    }\n",
       "\n",
       "    .dataframe tbody tr th {\n",
       "        vertical-align: top;\n",
       "    }\n",
       "\n",
       "    .dataframe thead th {\n",
       "        text-align: right;\n",
       "    }\n",
       "</style>\n",
       "<table border=\"1\" class=\"dataframe\">\n",
       "  <thead>\n",
       "    <tr style=\"text-align: right;\">\n",
       "      <th></th>\n",
       "      <th>wpop_diff</th>\n",
       "      <th>bpop_diff</th>\n",
       "      <th>area_diff</th>\n",
       "      <th>perim_diff</th>\n",
       "      <th>label</th>\n",
       "      <th>image_file</th>\n",
       "    </tr>\n",
       "  </thead>\n",
       "  <tbody>\n",
       "    <tr>\n",
       "      <th>711</th>\n",
       "      <td>0.652815</td>\n",
       "      <td>0.611372</td>\n",
       "      <td>0.551100</td>\n",
       "      <td>0.396517</td>\n",
       "      <td>False</td>\n",
       "      <td>state_plot7120.png</td>\n",
       "    </tr>\n",
       "    <tr>\n",
       "      <th>98</th>\n",
       "      <td>0.283966</td>\n",
       "      <td>0.323942</td>\n",
       "      <td>0.554893</td>\n",
       "      <td>0.539535</td>\n",
       "      <td>False</td>\n",
       "      <td>state_plot990.png</td>\n",
       "    </tr>\n",
       "    <tr>\n",
       "      <th>937</th>\n",
       "      <td>0.418857</td>\n",
       "      <td>0.325763</td>\n",
       "      <td>0.623737</td>\n",
       "      <td>0.436361</td>\n",
       "      <td>True</td>\n",
       "      <td>state_plot9380.png</td>\n",
       "    </tr>\n",
       "    <tr>\n",
       "      <th>357</th>\n",
       "      <td>0.505302</td>\n",
       "      <td>0.466818</td>\n",
       "      <td>0.725118</td>\n",
       "      <td>0.359819</td>\n",
       "      <td>False</td>\n",
       "      <td>state_plot3580.png</td>\n",
       "    </tr>\n",
       "    <tr>\n",
       "      <th>701</th>\n",
       "      <td>0.279588</td>\n",
       "      <td>0.372019</td>\n",
       "      <td>0.841260</td>\n",
       "      <td>0.178652</td>\n",
       "      <td>True</td>\n",
       "      <td>state_plot7020.png</td>\n",
       "    </tr>\n",
       "    <tr>\n",
       "      <th>...</th>\n",
       "      <td>...</td>\n",
       "      <td>...</td>\n",
       "      <td>...</td>\n",
       "      <td>...</td>\n",
       "      <td>...</td>\n",
       "      <td>...</td>\n",
       "    </tr>\n",
       "    <tr>\n",
       "      <th>700</th>\n",
       "      <td>0.422763</td>\n",
       "      <td>0.449401</td>\n",
       "      <td>0.842477</td>\n",
       "      <td>0.157667</td>\n",
       "      <td>False</td>\n",
       "      <td>state_plot7010.png</td>\n",
       "    </tr>\n",
       "    <tr>\n",
       "      <th>178</th>\n",
       "      <td>0.555319</td>\n",
       "      <td>0.616850</td>\n",
       "      <td>0.345580</td>\n",
       "      <td>0.110396</td>\n",
       "      <td>True</td>\n",
       "      <td>state_plot1790.png</td>\n",
       "    </tr>\n",
       "    <tr>\n",
       "      <th>299</th>\n",
       "      <td>0.284044</td>\n",
       "      <td>0.333282</td>\n",
       "      <td>0.412128</td>\n",
       "      <td>0.165183</td>\n",
       "      <td>True</td>\n",
       "      <td>state_plot3000.png</td>\n",
       "    </tr>\n",
       "    <tr>\n",
       "      <th>408</th>\n",
       "      <td>0.205654</td>\n",
       "      <td>0.133490</td>\n",
       "      <td>0.301037</td>\n",
       "      <td>0.579995</td>\n",
       "      <td>True</td>\n",
       "      <td>state_plot4090.png</td>\n",
       "    </tr>\n",
       "    <tr>\n",
       "      <th>519</th>\n",
       "      <td>0.291637</td>\n",
       "      <td>0.278305</td>\n",
       "      <td>0.711729</td>\n",
       "      <td>0.397601</td>\n",
       "      <td>False</td>\n",
       "      <td>state_plot5200.png</td>\n",
       "    </tr>\n",
       "  </tbody>\n",
       "</table>\n",
       "<p>720 rows × 6 columns</p>\n",
       "</div>"
      ],
      "text/plain": [
       "     wpop_diff  bpop_diff  area_diff  perim_diff  label          image_file\n",
       "711   0.652815   0.611372   0.551100    0.396517  False  state_plot7120.png\n",
       "98    0.283966   0.323942   0.554893    0.539535  False   state_plot990.png\n",
       "937   0.418857   0.325763   0.623737    0.436361   True  state_plot9380.png\n",
       "357   0.505302   0.466818   0.725118    0.359819  False  state_plot3580.png\n",
       "701   0.279588   0.372019   0.841260    0.178652   True  state_plot7020.png\n",
       "..         ...        ...        ...         ...    ...                 ...\n",
       "700   0.422763   0.449401   0.842477    0.157667  False  state_plot7010.png\n",
       "178   0.555319   0.616850   0.345580    0.110396   True  state_plot1790.png\n",
       "299   0.284044   0.333282   0.412128    0.165183   True  state_plot3000.png\n",
       "408   0.205654   0.133490   0.301037    0.579995   True  state_plot4090.png\n",
       "519   0.291637   0.278305   0.711729    0.397601  False  state_plot5200.png\n",
       "\n",
       "[720 rows x 6 columns]"
      ]
     },
     "execution_count": 6,
     "metadata": {},
     "output_type": "execute_result"
    }
   ],
   "source": [
    "demo_train_df"
   ]
  },
  {
   "cell_type": "code",
   "execution_count": 8,
   "metadata": {},
   "outputs": [],
   "source": [
    "# create image arrays for train/test/val sets\n",
    "\n",
    "# normal, unbalanced data\n",
    "train_images = img_array(demo_train_df['image_file'], resize=False)\n",
    "test_images = img_array(demo_test_df['image_file'], resize=False)\n",
    "val_images = img_array(demo_val_df['image_file'], resize=False)\n",
    "\n",
    "# oversampled data\n",
    "over_train_images = img_array(over_demo_train_df['image_file'], resize=False)\n",
    "over_test_images = img_array(over_demo_test_df['image_file'], resize=False)\n",
    "over_val_images = img_array(over_demo_val_df['image_file'], resize=False)"
   ]
  },
  {
   "cell_type": "markdown",
   "metadata": {},
   "source": [
    "### Create Models"
   ]
  },
  {
   "cell_type": "code",
   "execution_count": 9,
   "metadata": {},
   "outputs": [],
   "source": [
    "# make individual CNN and NN models with functions from models.ipynb\n",
    "cnn = make_vgg16()\n",
    "nn = make_nn(4)\n",
    "\n",
    "# combine the model outputs\n",
    "combined_model = tf.keras.layers.concatenate([nn.output, cnn.output],axis=1)\n",
    "\n",
    "# final output layers\n",
    "x = Dense(4, activation='relu')(combined_model)\n",
    "x = Dense(1, activation='sigmoid')(x)\n",
    "\n",
    "model = Model(inputs=[nn.input, cnn.input], outputs=x)\n"
   ]
  },
  {
   "cell_type": "markdown",
   "metadata": {},
   "source": [
    "### Compile Model"
   ]
  },
  {
   "cell_type": "code",
   "execution_count": 10,
   "metadata": {},
   "outputs": [],
   "source": [
    "opt = Adam(learning_rate=1e-3, epsilon=1e-3 / 200)\n",
    "model.compile(loss='binary_crossentropy', optimizer=opt, metrics=['accuracy'])"
   ]
  },
  {
   "cell_type": "markdown",
   "metadata": {},
   "source": [
    "### Fit, Train, and Test Model"
   ]
  },
  {
   "cell_type": "code",
   "execution_count": 11,
   "metadata": {},
   "outputs": [],
   "source": [
    "early = EarlyStopping(monitor='val_accuracy', min_delta=0, patience=3, verbose=1, mode='auto')"
   ]
  },
  {
   "cell_type": "markdown",
   "metadata": {},
   "source": [
    "##### Unbalanced Data Model"
   ]
  },
  {
   "cell_type": "code",
   "execution_count": 14,
   "metadata": {},
   "outputs": [
    {
     "name": "stdout",
     "output_type": "stream",
     "text": [
      "Epoch 1/20\n",
      "23/23 [==============================] - 125s 5s/step - loss: 0.6935 - accuracy: 0.6194 - val_loss: 0.6901 - val_accuracy: 0.6000\n",
      "Epoch 2/20\n",
      "23/23 [==============================] - 126s 6s/step - loss: 0.6870 - accuracy: 0.6333 - val_loss: 0.6863 - val_accuracy: 0.6000\n",
      "Epoch 3/20\n",
      "23/23 [==============================] - 128s 6s/step - loss: 0.6780 - accuracy: 0.6333 - val_loss: 0.6802 - val_accuracy: 0.6000\n",
      "Epoch 4/20\n",
      "23/23 [==============================] - 125s 5s/step - loss: 0.6698 - accuracy: 0.6333 - val_loss: 0.6776 - val_accuracy: 0.6000\n",
      "Epoch 00004: early stopping\n"
     ]
    }
   ],
   "source": [
    "statewide_model = model.fit(\n",
    "\tx=[demo_train_df.iloc[:,:-2].values.astype(np.float32), train_images.astype(np.float32)], \n",
    "\ty=demo_train_df['label'].values,\n",
    "\tvalidation_data=([demo_val_df.iloc[:,:-2].values.astype(np.float32), val_images.astype(np.float32)], demo_val_df['label'].values),\n",
    "\tcallbacks=early,\n",
    "\tepochs=20,\n",
    "\tbatch_size=32)"
   ]
  },
  {
   "cell_type": "code",
   "execution_count": 15,
   "metadata": {},
   "outputs": [
    {
     "name": "stdout",
     "output_type": "stream",
     "text": [
      "7/7 [==============================] - 29s 4s/step - loss: 0.6823 - accuracy: 0.5800\n"
     ]
    },
    {
     "data": {
      "text/plain": [
       "[0.6822792291641235, 0.5799999833106995]"
      ]
     },
     "execution_count": 15,
     "metadata": {},
     "output_type": "execute_result"
    }
   ],
   "source": [
    "# evaluate model\n",
    "eval_results = model.evaluate(x=[demo_test_df.iloc[:,:-2].values.astype(np.float32), test_images.astype(np.float32)],\n",
    "y=demo_test_df['label'].values)\n",
    "\n",
    "eval_results"
   ]
  },
  {
   "cell_type": "code",
   "execution_count": 18,
   "metadata": {},
   "outputs": [
    {
     "data": {
      "image/png": "[encoded data removed]",
      "text/plain": [
       "<Figure size 432x288 with 2 Axes>"
      ]
     },
     "metadata": {
      "needs_background": "light"
     },
     "output_type": "display_data"
    },
    {
     "name": "stdout",
     "output_type": "stream",
     "text": [
      "              precision    recall  f1-score   support\n",
      "\n",
      "       False       0.68      1.00      0.81        34\n",
      "        True       0.00      0.00      0.00        16\n",
      "\n",
      "    accuracy                           0.68        50\n",
      "   macro avg       0.34      0.50      0.40        50\n",
      "weighted avg       0.46      0.68      0.55        50\n",
      "\n"
     ]
    },
    {
     "name": "stderr",
     "output_type": "stream",
     "text": [
      "c:\\Users\\Afris\\miniconda3\\lib\\site-packages\\sklearn\\metrics\\_classification.py:1327: UndefinedMetricWarning: Precision and F-score are ill-defined and being set to 0.0 in labels with no predicted samples. Use `zero_division` parameter to control this behavior.\n",
      "  _warn_prf(average, modifier, msg_start, len(result))\n",
      "c:\\Users\\Afris\\miniconda3\\lib\\site-packages\\sklearn\\metrics\\_classification.py:1327: UndefinedMetricWarning: Precision and F-score are ill-defined and being set to 0.0 in labels with no predicted samples. Use `zero_division` parameter to control this behavior.\n",
      "  _warn_prf(average, modifier, msg_start, len(result))\n",
      "c:\\Users\\Afris\\miniconda3\\lib\\site-packages\\sklearn\\metrics\\_classification.py:1327: UndefinedMetricWarning: Precision and F-score are ill-defined and being set to 0.0 in labels with no predicted samples. Use `zero_division` parameter to control this behavior.\n",
      "  _warn_prf(average, modifier, msg_start, len(result))\n"
     ]
    }
   ],
   "source": [
    "gen_report(model, \n",
    "[demo_test_df.iloc[:,:-2].values.astype(np.float32), test_images.astype(np.float32)],\n",
    "demo_test_df['label'].values,\n",
    "'Confusion Matrix - Statewide Model'\n",
    ")"
   ]
  },
  {
   "cell_type": "markdown",
   "metadata": {},
   "source": [
    "##### Oversampled Model"
   ]
  },
  {
   "cell_type": "code",
   "execution_count": 30,
   "metadata": {},
   "outputs": [
    {
     "name": "stdout",
     "output_type": "stream",
     "text": [
      "Epoch 1/10\n",
      "17/17 [==============================] - 86s 5s/step - loss: 0.9262 - accuracy: 0.5077 - val_loss: 0.6932 - val_accuracy: 0.5345\n",
      "Epoch 2/10\n",
      "17/17 [==============================] - 85s 5s/step - loss: 0.6931 - accuracy: 0.5019 - val_loss: 0.6932 - val_accuracy: 0.5172\n",
      "Epoch 3/10\n",
      "17/17 [==============================] - 86s 5s/step - loss: 0.6931 - accuracy: 0.4981 - val_loss: 0.6934 - val_accuracy: 0.5345\n",
      "Epoch 4/10\n",
      "17/17 [==============================] - 86s 5s/step - loss: 0.6931 - accuracy: 0.5000 - val_loss: 0.6937 - val_accuracy: 0.5000\n",
      "Epoch 00004: early stopping\n"
     ]
    }
   ],
   "source": [
    "over_statewide_model = model.fit(\n",
    "\tx=[over_demo_train_df.iloc[:,:-2].values.astype(np.float32), over_train_images.astype(np.float32)], \n",
    "\ty=over_demo_train_df['label'].values,\n",
    "\tvalidation_data=([over_demo_val_df.iloc[:,:-2].values.astype(np.float32), over_val_images.astype(np.float32)], over_demo_val_df['label'].values),\n",
    "\tcallbacks=early,\n",
    "\tepochs=10,\n",
    "\tbatch_size=32)"
   ]
  },
  {
   "cell_type": "code",
   "execution_count": 31,
   "metadata": {},
   "outputs": [
    {
     "name": "stdout",
     "output_type": "stream",
     "text": [
      "8/8 [==============================] - 35s 4s/step - loss: 0.6931 - accuracy: 0.5363\n"
     ]
    },
    {
     "data": {
      "text/plain": [
       "[0.6931073665618896, 0.5362903475761414]"
      ]
     },
     "execution_count": 31,
     "metadata": {},
     "output_type": "execute_result"
    }
   ],
   "source": [
    "# evaluate model\n",
    "over_eval_results = model.evaluate(x=[over_demo_test_df.iloc[:,:-2].values.astype(np.float32), over_test_images.astype(np.float32)],\n",
    "y=over_demo_test_df['label'].values)\n",
    "\n",
    "over_eval_results"
   ]
  },
  {
   "cell_type": "markdown",
   "metadata": {},
   "source": [
    "### CNN Only Model"
   ]
  },
  {
   "cell_type": "code",
   "execution_count": 13,
   "metadata": {},
   "outputs": [],
   "source": [
    "# image preprocessing - separate generators in case I want to test images different from train/validation images\n",
    "data_generator = ImageDataGenerator(\n",
    "    #width_shift_range=0.1,\n",
    "    # shear_range=0.1,\n",
    "    zoom_range=0.3,\n",
    "    samplewise_center=True,\n",
    "    samplewise_std_normalization=True\n",
    ")\n",
    "\n",
    "test_generator = ImageDataGenerator(\n",
    "    # shear_range=0.1,\n",
    "    zoom_range=0.3,\n",
    "    samplewise_center=True,\n",
    "    samplewise_std_normalization=True\n",
    ")"
   ]
  },
  {
   "cell_type": "code",
   "execution_count": 14,
   "metadata": {},
   "outputs": [
    {
     "name": "stdout",
     "output_type": "stream",
     "text": [
      "Found 720 images belonging to 2 classes.\n",
      "Found 80 images belonging to 2 classes.\n",
      "Found 200 images belonging to 2 classes.\n"
     ]
    }
   ],
   "source": [
    "# create train/test/val images with generators\n",
    "\n",
    "img_dir = 'Outputs/images/statewide/'\n",
    "\n",
    "data_train = data_generator.flow_from_directory(img_dir+'train/sub/', target_size=(224, 224), \n",
    "                            batch_size=32, class_mode='binary', \n",
    "                            shuffle=False,\n",
    "                            save_to_dir=img_dir+'train/processed/',\n",
    "                            # save_prefix='processed_'\n",
    "                            )\n",
    "data_val = data_generator.flow_from_directory(img_dir+'val/sub/', target_size=(224, 224), \n",
    "                            batch_size=32, class_mode='binary', \n",
    "                            shuffle=False,\n",
    "                            save_to_dir=img_dir+'val/processed/',\n",
    "                            # save_prefix='processed_'\n",
    "                            )\n",
    "\n",
    "data_test = test_generator.flow_from_directory(img_dir+'test/sub/', target_size=(224,224), \n",
    "                            batch_size=32, class_mode='binary',\n",
    "                            shuffle=False,\n",
    "                            save_to_dir=img_dir+'test/processed/',\n",
    "                            # save_prefix='processed_'\n",
    "                            )"
   ]
  },
  {
   "cell_type": "code",
   "execution_count": 14,
   "metadata": {},
   "outputs": [
    {
     "name": "stdout",
     "output_type": "stream",
     "text": [
      "Found 281 images belonging to 2 classes.\n",
      "Found 32 images belonging to 2 classes.\n",
      "Found 79 images belonging to 2 classes.\n"
     ]
    }
   ],
   "source": [
    "# same thing for oversampled data\n",
    "\n",
    "over_train = data_generator.flow_from_directory(img_dir+'overs/train/', target_size=(224, 224), \n",
    "                            batch_size=16, class_mode='binary', \n",
    "                            # shuffle=True,\n",
    "                            # save_to_dir=img_dir+'processed/',\n",
    "                            # save_prefix='processed_'\n",
    "                            )\n",
    "over_val = data_generator.flow_from_directory(img_dir+'overs/val/', target_size=(224, 224), \n",
    "                            batch_size=16, class_mode='binary', \n",
    "                            # shuffle=True,\n",
    "                            # save_to_dir=img_dir+'processed/',\n",
    "                            # save_prefix='processed_'\n",
    "                            )\n",
    "\n",
    "over_test = test_generator.flow_from_directory(img_dir+'overs/test/', target_size=(224,224), \n",
    "                            batch_size=16, class_mode='binary',\n",
    "                            # shuffle=True,\n",
    "                            # save_to_dir=img_dir+'processed/',\n",
    "                            # save_prefix='processed_'\n",
    "                            )"
   ]
  },
  {
   "cell_type": "code",
   "execution_count": 15,
   "metadata": {},
   "outputs": [],
   "source": [
    "# build custom VGG16 CNN from scratch to allow for quick customization and tinkering\n",
    "\n",
    "cnn_model = Sequential()\n",
    "cnn_model.add(tf.keras.applications.VGG16(include_top=False, weights='imagenet', pooling='avg'))\n",
    "\n",
    "for layer in cnn_model.layers:\n",
    "    layer.trainable = False\n",
    "\n",
    "\n",
    "cnn_model.add(Flatten())\n",
    "\n",
    "cnn_model.add(Dense(4096, activation='relu'))\n",
    "\n",
    "cnn_model.add(Dense(4096, activation='relu'))\n",
    "\n",
    "cnn_model.add(Dense(1000, activation='relu'))\n",
    "\n",
    "cnn_model.add(Dense(500, activation='relu'))\n",
    "cnn_model.add(Dense(100, activation='relu'))\n",
    "\n",
    "cnn_model.add(Dense(10, activation='relu'))\n",
    "\n",
    "cnn_model.add(Dense(1, activation='sigmoid'))\n",
    "\n",
    "opt = Adam(learning_rate=1e-3, epsilon=1e-3 / 200)\n",
    "cnn_model.compile(optimizer=opt, loss='binary_crossentropy', metrics=['accuracy'])"
   ]
  },
  {
   "cell_type": "code",
   "execution_count": 12,
   "metadata": {},
   "outputs": [
    {
     "name": "stdout",
     "output_type": "stream",
     "text": [
      "Epoch 1/20\n",
      "12/12 [==============================] - 16s 1s/step - loss: 0.7229 - accuracy: 0.8222 - val_loss: 0.6996 - val_accuracy: 0.7000\n",
      "Epoch 2/20\n",
      "12/12 [==============================] - 15s 1s/step - loss: 0.5011 - accuracy: 0.8222 - val_loss: 0.7203 - val_accuracy: 0.7000\n",
      "Epoch 3/20\n",
      "12/12 [==============================] - 16s 1s/step - loss: 0.4955 - accuracy: 0.8222 - val_loss: 0.6196 - val_accuracy: 0.7000\n",
      "Epoch 4/20\n",
      "12/12 [==============================] - 15s 1s/step - loss: 0.4871 - accuracy: 0.8222 - val_loss: 0.7942 - val_accuracy: 0.7000\n",
      "Epoch 00004: early stopping\n"
     ]
    },
    {
     "data": {
      "text/plain": [
       "<keras.callbacks.History at 0x1977f0f6e20>"
      ]
     },
     "execution_count": 12,
     "metadata": {},
     "output_type": "execute_result"
    }
   ],
   "source": [
    "# fit CNN model\n",
    "cnn_model.fit(data_train, \n",
    "validation_data=data_val,\n",
    "callbacks=early,\n",
    "epochs=20,\n",
    "batch_size=16)"
   ]
  },
  {
   "cell_type": "code",
   "execution_count": 13,
   "metadata": {},
   "outputs": [
    {
     "name": "stdout",
     "output_type": "stream",
     "text": [
      "4/4 [==============================] - 4s 812ms/step - loss: 0.8091 - accuracy: 0.6800\n"
     ]
    },
    {
     "data": {
      "text/plain": [
       "[0.8090676665306091, 0.6800000071525574]"
      ]
     },
     "execution_count": 13,
     "metadata": {},
     "output_type": "execute_result"
    }
   ],
   "source": [
    "# evaluate CNN model\n",
    "eval_results = cnn_model.evaluate(x=data_test, batch_size=16)\n",
    "\n",
    "eval_results"
   ]
  },
  {
   "cell_type": "markdown",
   "metadata": {},
   "source": [
    "##### Oversampled Data"
   ]
  },
  {
   "cell_type": "code",
   "execution_count": 17,
   "metadata": {},
   "outputs": [
    {
     "name": "stdout",
     "output_type": "stream",
     "text": [
      "Epoch 1/20\n",
      "18/18 [==============================] - 24s 1s/step - loss: 0.7442 - accuracy: 0.5125 - val_loss: 0.7052 - val_accuracy: 0.3750\n",
      "Epoch 2/20\n",
      "18/18 [==============================] - 23s 1s/step - loss: 0.6929 - accuracy: 0.5018 - val_loss: 0.6935 - val_accuracy: 0.3750\n",
      "Epoch 3/20\n",
      "18/18 [==============================] - 22s 1s/step - loss: 0.6931 - accuracy: 0.5018 - val_loss: 0.6934 - val_accuracy: 0.3750\n",
      "Epoch 4/20\n",
      "18/18 [==============================] - 22s 1s/step - loss: 0.6932 - accuracy: 0.5018 - val_loss: 0.6934 - val_accuracy: 0.3750\n",
      "Epoch 00004: early stopping\n"
     ]
    },
    {
     "data": {
      "text/plain": [
       "<keras.callbacks.History at 0x1977f066d60>"
      ]
     },
     "execution_count": 17,
     "metadata": {},
     "output_type": "execute_result"
    }
   ],
   "source": [
    "cnn_model.fit(over_train, \n",
    "validation_data=over_val,\n",
    "callbacks=early,\n",
    "epochs=20,\n",
    "batch_size=16)"
   ]
  },
  {
   "cell_type": "code",
   "execution_count": 18,
   "metadata": {},
   "outputs": [
    {
     "name": "stdout",
     "output_type": "stream",
     "text": [
      "5/5 [==============================] - 5s 1s/step - loss: 0.6931 - accuracy: 0.5443\n"
     ]
    },
    {
     "data": {
      "text/plain": [
       "[0.6930528283119202, 0.5443037748336792]"
      ]
     },
     "execution_count": 18,
     "metadata": {},
     "output_type": "execute_result"
    }
   ],
   "source": [
    "eval_results = cnn_model.evaluate(x=over_test, batch_size=16)\n",
    "\n",
    "eval_results"
   ]
  },
  {
   "cell_type": "markdown",
   "metadata": {},
   "source": [
    "### Preprocessing Statewide Images\n",
    "    - Trying to see if tinkering with the statewide images will help the combined model like it did for the district models"
   ]
  },
  {
   "cell_type": "code",
   "execution_count": 19,
   "metadata": {},
   "outputs": [],
   "source": [
    "# apply the transformations on the images\n",
    "\n",
    "for i in range(len(data_val)):\n",
    "    data_val.next()\n",
    "\n",
    "for i in range(len(data_train)):\n",
    "    data_train.next()\n",
    "\n",
    "for i in range(len(data_test)):\n",
    "    data_test.next()"
   ]
  },
  {
   "cell_type": "code",
   "execution_count": 20,
   "metadata": {},
   "outputs": [],
   "source": [
    "# get original image file name\n",
    "val_images = [file.split('\\\\')[1] for file in data_val.filenames]\n",
    "test_images = [file.split('\\\\')[1] for file in data_test.filenames]\n",
    "train_images = [file.split('\\\\')[1] for file in data_train.filenames]"
   ]
  },
  {
   "cell_type": "code",
   "execution_count": 21,
   "metadata": {},
   "outputs": [
    {
     "data": {
      "text/html": [
       "<div>\n",
       "<style scoped>\n",
       "    .dataframe tbody tr th:only-of-type {\n",
       "        vertical-align: middle;\n",
       "    }\n",
       "\n",
       "    .dataframe tbody tr th {\n",
       "        vertical-align: top;\n",
       "    }\n",
       "\n",
       "    .dataframe thead th {\n",
       "        text-align: right;\n",
       "    }\n",
       "</style>\n",
       "<table border=\"1\" class=\"dataframe\">\n",
       "  <thead>\n",
       "    <tr style=\"text-align: right;\">\n",
       "      <th></th>\n",
       "      <th>wpop_diff</th>\n",
       "      <th>bpop_diff</th>\n",
       "      <th>area_diff</th>\n",
       "      <th>perim_diff</th>\n",
       "      <th>label</th>\n",
       "      <th>image_file</th>\n",
       "    </tr>\n",
       "  </thead>\n",
       "  <tbody>\n",
       "    <tr>\n",
       "      <th>711</th>\n",
       "      <td>0.652815</td>\n",
       "      <td>0.611372</td>\n",
       "      <td>0.551100</td>\n",
       "      <td>0.396517</td>\n",
       "      <td>False</td>\n",
       "      <td>state_plot7120.png</td>\n",
       "    </tr>\n",
       "    <tr>\n",
       "      <th>98</th>\n",
       "      <td>0.283966</td>\n",
       "      <td>0.323942</td>\n",
       "      <td>0.554893</td>\n",
       "      <td>0.539535</td>\n",
       "      <td>False</td>\n",
       "      <td>state_plot990.png</td>\n",
       "    </tr>\n",
       "    <tr>\n",
       "      <th>937</th>\n",
       "      <td>0.418857</td>\n",
       "      <td>0.325763</td>\n",
       "      <td>0.623737</td>\n",
       "      <td>0.436361</td>\n",
       "      <td>True</td>\n",
       "      <td>state_plot9380.png</td>\n",
       "    </tr>\n",
       "    <tr>\n",
       "      <th>357</th>\n",
       "      <td>0.505302</td>\n",
       "      <td>0.466818</td>\n",
       "      <td>0.725118</td>\n",
       "      <td>0.359819</td>\n",
       "      <td>False</td>\n",
       "      <td>state_plot3580.png</td>\n",
       "    </tr>\n",
       "    <tr>\n",
       "      <th>701</th>\n",
       "      <td>0.279588</td>\n",
       "      <td>0.372019</td>\n",
       "      <td>0.841260</td>\n",
       "      <td>0.178652</td>\n",
       "      <td>True</td>\n",
       "      <td>state_plot7020.png</td>\n",
       "    </tr>\n",
       "  </tbody>\n",
       "</table>\n",
       "</div>"
      ],
      "text/plain": [
       "     wpop_diff  bpop_diff  area_diff  perim_diff  label          image_file\n",
       "711   0.652815   0.611372   0.551100    0.396517  False  state_plot7120.png\n",
       "98    0.283966   0.323942   0.554893    0.539535  False   state_plot990.png\n",
       "937   0.418857   0.325763   0.623737    0.436361   True  state_plot9380.png\n",
       "357   0.505302   0.466818   0.725118    0.359819  False  state_plot3580.png\n",
       "701   0.279588   0.372019   0.841260    0.178652   True  state_plot7020.png"
      ]
     },
     "execution_count": 21,
     "metadata": {},
     "output_type": "execute_result"
    }
   ],
   "source": [
    "demo_train_df.head()"
   ]
  },
  {
   "cell_type": "code",
   "execution_count": 22,
   "metadata": {},
   "outputs": [
    {
     "data": {
      "text/html": [
       "<div>\n",
       "<style scoped>\n",
       "    .dataframe tbody tr th:only-of-type {\n",
       "        vertical-align: middle;\n",
       "    }\n",
       "\n",
       "    .dataframe tbody tr th {\n",
       "        vertical-align: top;\n",
       "    }\n",
       "\n",
       "    .dataframe thead th {\n",
       "        text-align: right;\n",
       "    }\n",
       "</style>\n",
       "<table border=\"1\" class=\"dataframe\">\n",
       "  <thead>\n",
       "    <tr style=\"text-align: right;\">\n",
       "      <th></th>\n",
       "      <th>wpop_diff</th>\n",
       "      <th>bpop_diff</th>\n",
       "      <th>area_diff</th>\n",
       "      <th>perim_diff</th>\n",
       "      <th>label</th>\n",
       "      <th>image_file</th>\n",
       "      <th>process_image</th>\n",
       "    </tr>\n",
       "  </thead>\n",
       "  <tbody>\n",
       "    <tr>\n",
       "      <th>711</th>\n",
       "      <td>0.652815</td>\n",
       "      <td>0.611372</td>\n",
       "      <td>0.551100</td>\n",
       "      <td>0.396517</td>\n",
       "      <td>False</td>\n",
       "      <td>state_plot7120.png</td>\n",
       "      <td>_0_9082966.png</td>\n",
       "    </tr>\n",
       "    <tr>\n",
       "      <th>98</th>\n",
       "      <td>0.283966</td>\n",
       "      <td>0.323942</td>\n",
       "      <td>0.554893</td>\n",
       "      <td>0.539535</td>\n",
       "      <td>False</td>\n",
       "      <td>state_plot990.png</td>\n",
       "      <td>_1_5490020.png</td>\n",
       "    </tr>\n",
       "    <tr>\n",
       "      <th>937</th>\n",
       "      <td>0.418857</td>\n",
       "      <td>0.325763</td>\n",
       "      <td>0.623737</td>\n",
       "      <td>0.436361</td>\n",
       "      <td>True</td>\n",
       "      <td>state_plot9380.png</td>\n",
       "      <td>_2_6799282.png</td>\n",
       "    </tr>\n",
       "    <tr>\n",
       "      <th>357</th>\n",
       "      <td>0.505302</td>\n",
       "      <td>0.466818</td>\n",
       "      <td>0.725118</td>\n",
       "      <td>0.359819</td>\n",
       "      <td>False</td>\n",
       "      <td>state_plot3580.png</td>\n",
       "      <td>_3_2880876.png</td>\n",
       "    </tr>\n",
       "    <tr>\n",
       "      <th>701</th>\n",
       "      <td>0.279588</td>\n",
       "      <td>0.372019</td>\n",
       "      <td>0.841260</td>\n",
       "      <td>0.178652</td>\n",
       "      <td>True</td>\n",
       "      <td>state_plot7020.png</td>\n",
       "      <td>_4_7040159.png</td>\n",
       "    </tr>\n",
       "  </tbody>\n",
       "</table>\n",
       "</div>"
      ],
      "text/plain": [
       "     wpop_diff  bpop_diff  area_diff  perim_diff  label          image_file  \\\n",
       "711   0.652815   0.611372   0.551100    0.396517  False  state_plot7120.png   \n",
       "98    0.283966   0.323942   0.554893    0.539535  False   state_plot990.png   \n",
       "937   0.418857   0.325763   0.623737    0.436361   True  state_plot9380.png   \n",
       "357   0.505302   0.466818   0.725118    0.359819  False  state_plot3580.png   \n",
       "701   0.279588   0.372019   0.841260    0.178652   True  state_plot7020.png   \n",
       "\n",
       "      process_image  \n",
       "711  _0_9082966.png  \n",
       "98   _1_5490020.png  \n",
       "937  _2_6799282.png  \n",
       "357  _3_2880876.png  \n",
       "701  _4_7040159.png  "
      ]
     },
     "execution_count": 22,
     "metadata": {},
     "output_type": "execute_result"
    }
   ],
   "source": [
    "# add column to dataframes for new processed image file names\n",
    "demo_test_df['process_image'] = sorted(os.listdir(path=img_dir+'test/processed'), key=lambda x: int(str(x)[1:].split('_')[0]))\n",
    "demo_train_df['process_image'] = sorted(os.listdir(path=img_dir+'train/processed'), key=lambda x: int(str(x)[1:].split('_')[0]))\n",
    "demo_val_df['process_image'] = sorted(os.listdir(path=img_dir+'val/processed'), key=lambda x: int(str(x)[1:].split('_')[0]))\n",
    "\n",
    "demo_train_df.head()"
   ]
  },
  {
   "cell_type": "code",
   "execution_count": 23,
   "metadata": {},
   "outputs": [],
   "source": [
    "# convert processed images to arrays\n",
    "train_images_pross = img_array(demo_train_df['process_image'], subset='train',resize=True)\n",
    "test_images_pross = img_array(demo_test_df['process_image'], subset='test',resize=True)\n",
    "val_images_pross = img_array(demo_val_df['process_image'], subset='val',resize=True)"
   ]
  },
  {
   "cell_type": "markdown",
   "metadata": {},
   "source": [
    "### Train, Test, and Fit Model with Preprocessed Images"
   ]
  },
  {
   "cell_type": "code",
   "execution_count": 25,
   "metadata": {},
   "outputs": [
    {
     "name": "stdout",
     "output_type": "stream",
     "text": [
      "Epoch 1/20\n",
      "23/23 [==============================] - 52s 2s/step - loss: 0.7462 - accuracy: 0.3667 - val_loss: 0.7160 - val_accuracy: 0.4000\n",
      "Epoch 2/20\n",
      "23/23 [==============================] - 51s 2s/step - loss: 0.7119 - accuracy: 0.3681 - val_loss: 0.7050 - val_accuracy: 0.3875\n",
      "Epoch 3/20\n",
      "23/23 [==============================] - 53s 2s/step - loss: 0.6995 - accuracy: 0.3958 - val_loss: 0.6964 - val_accuracy: 0.4875\n",
      "Epoch 4/20\n",
      "23/23 [==============================] - 50s 2s/step - loss: 0.6903 - accuracy: 0.5778 - val_loss: 0.6896 - val_accuracy: 0.5750\n",
      "Epoch 5/20\n",
      "23/23 [==============================] - 50s 2s/step - loss: 0.6832 - accuracy: 0.6250 - val_loss: 0.6855 - val_accuracy: 0.6000\n",
      "Epoch 6/20\n",
      "23/23 [==============================] - 47s 2s/step - loss: 0.6776 - accuracy: 0.6333 - val_loss: 0.6811 - val_accuracy: 0.6000\n",
      "Epoch 7/20\n",
      "23/23 [==============================] - 47s 2s/step - loss: 0.6707 - accuracy: 0.6333 - val_loss: 0.6772 - val_accuracy: 0.6000\n",
      "Epoch 8/20\n",
      "23/23 [==============================] - 46s 2s/step - loss: 0.6650 - accuracy: 0.6333 - val_loss: 0.6752 - val_accuracy: 0.6000\n",
      "Epoch 00008: early stopping\n"
     ]
    }
   ],
   "source": [
    "pross_statewide_model = model.fit(\n",
    "\tx=[demo_train_df.iloc[:,:-3].values.astype(np.float32), train_images_pross.astype(np.float32)], \n",
    "\ty=demo_train_df['label'].values,\n",
    "\tvalidation_data=([demo_val_df.iloc[:,:-3].values.astype(np.float32), val_images_pross.astype(np.float32)], demo_val_df['label'].values),\n",
    "\tcallbacks=early,\n",
    "\tepochs=20,\n",
    "\tbatch_size=32)"
   ]
  },
  {
   "cell_type": "code",
   "execution_count": 26,
   "metadata": {},
   "outputs": [
    {
     "name": "stdout",
     "output_type": "stream",
     "text": [
      "7/7 [==============================] - 11s 2s/step - loss: 0.6816 - accuracy: 0.5800\n"
     ]
    },
    {
     "data": {
      "text/plain": [
       "[0.6816393136978149, 0.5799999833106995]"
      ]
     },
     "execution_count": 26,
     "metadata": {},
     "output_type": "execute_result"
    }
   ],
   "source": [
    "# evaluate model\n",
    "eval_results = model.evaluate(x=[demo_test_df.iloc[:,:-3].values.astype(np.float32), test_images_pross.astype(np.float32)],\n",
    "y=demo_test_df['label'].values)\n",
    "\n",
    "eval_results"
   ]
  },
  {
   "cell_type": "code",
   "execution_count": 27,
   "metadata": {},
   "outputs": [
    {
     "data": {
      "image/png": "[encoded data removed]",
      "text/plain": [
       "<Figure size 432x288 with 2 Axes>"
      ]
     },
     "metadata": {
      "needs_background": "light"
     },
     "output_type": "display_data"
    },
    {
     "name": "stdout",
     "output_type": "stream",
     "text": [
      "              precision    recall  f1-score   support\n",
      "\n",
      "       False       0.58      1.00      0.73       116\n",
      "        True       0.00      0.00      0.00        84\n",
      "\n",
      "    accuracy                           0.58       200\n",
      "   macro avg       0.29      0.50      0.37       200\n",
      "weighted avg       0.34      0.58      0.43       200\n",
      "\n"
     ]
    },
    {
     "name": "stderr",
     "output_type": "stream",
     "text": [
      "c:\\Users\\Afris\\miniconda3\\lib\\site-packages\\sklearn\\metrics\\_classification.py:1327: UndefinedMetricWarning: Precision and F-score are ill-defined and being set to 0.0 in labels with no predicted samples. Use `zero_division` parameter to control this behavior.\n",
      "  _warn_prf(average, modifier, msg_start, len(result))\n",
      "c:\\Users\\Afris\\miniconda3\\lib\\site-packages\\sklearn\\metrics\\_classification.py:1327: UndefinedMetricWarning: Precision and F-score are ill-defined and being set to 0.0 in labels with no predicted samples. Use `zero_division` parameter to control this behavior.\n",
      "  _warn_prf(average, modifier, msg_start, len(result))\n",
      "c:\\Users\\Afris\\miniconda3\\lib\\site-packages\\sklearn\\metrics\\_classification.py:1327: UndefinedMetricWarning: Precision and F-score are ill-defined and being set to 0.0 in labels with no predicted samples. Use `zero_division` parameter to control this behavior.\n",
      "  _warn_prf(average, modifier, msg_start, len(result))\n"
     ]
    }
   ],
   "source": [
    "gen_report(model, \n",
    "[demo_test_df.iloc[:,:-3].values.astype(np.float32), test_images_pross.astype(np.float32)],\n",
    "demo_test_df['label'].values,\n",
    "'Confusion Matrix - Statewide Model'\n",
    ")"
   ]
  },
  {
   "cell_type": "code",
   "execution_count": null,
   "metadata": {},
   "outputs": [],
   "source": [
    "# same results!"
   ]
  }
 ],
 "metadata": {
  "kernelspec": {
   "display_name": "Python 3.9.12 ('base')",
   "language": "python",
   "name": "python3"
  },
  "language_info": {
   "codemirror_mode": {
    "name": "ipython",
    "version": 3
   },
   "file_extension": ".py",
   "mimetype": "text/x-python",
   "name": "python",
   "nbconvert_exporter": "python",
   "pygments_lexer": "ipython3",
   "version": "3.9.12"
  },
  "orig_nbformat": 4,
  "vscode": {
   "interpreter": {
    "hash": "992af9430b13ada16c30f2ac47cf0d744148870fc875adc12e54130686e91185"
   }
  }
 },
 "nbformat": 4,
 "nbformat_minor": 2
}
