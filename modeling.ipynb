{
 "cells": [
  {
   "cell_type": "code",
   "execution_count": 1,
   "metadata": {},
   "outputs": [],
   "source": [
    "# import libraries\n",
    "import os\n",
    "import matplotlib.pyplot as plt\n",
    "import tensorflow as tf\n",
    "from tensorflow import keras\n",
    "from keras.layers import Dense\n",
    "from tensorflow.keras.models import Model\n",
    "from tensorflow.keras import Input\n",
    "from tensorflow.keras.optimizers import Adam\n",
    "from keras import Sequential\n",
    "from tensorflow.keras.preprocessing.image import ImageDataGenerator\n",
    "from keras import callbacks\n",
    "from keras.callbacks import EarlyStopping\n",
    "from keras.layers import Dropout\n",
    "from keras.layers import Flatten\n",
    "from keras.layers import Conv2D\n",
    "from keras.layers import MaxPool2D\n",
    "from keras.layers import ReLU\n",
    "import keras_tuner as kt\n",
    "import numpy as np\n",
    "\n",
    "from ipynb.fs.full.models import (make_vgg16, make_nn, kt_model_build, \n",
    "    trimmed_kt_model_build, cat_kt_model_build, extra_trimmed_kt_model_build)\n",
    "import pandas as pd\n",
    "from sklearn import preprocessing\n",
    "import cv2\n",
    "\n",
    "from sklearn.metrics import confusion_matrix\n",
    "from sklearn.metrics import ConfusionMatrixDisplay\n",
    "from sklearn.metrics import classification_report\n"
   ]
  },
  {
   "cell_type": "markdown",
   "metadata": {},
   "source": [
    "### Import and Merge Data"
   ]
  },
  {
   "cell_type": "code",
   "execution_count": 16,
   "metadata": {},
   "outputs": [],
   "source": [
    "col_labels = ['og_idx', 'tpop', 'bpop', 'wpop', 'area', 'label', 'image_file']\n",
    "color = 'green'\n",
    "\n",
    "if color is not None:\n",
    "    dem_train_df_egs = pd.read_csv(f'Outputs/{color}_train_data_egs_label.csv', names=col_labels, header=0)\n",
    "    dem_test_df_egs = pd.read_csv(f'Outputs/{color}_test_data_egs_label.csv', names=col_labels, header=0)\n",
    "    dem_val_df_egs = pd.read_csv(f'Outputs/{color}_val_data_egs_label.csv', names=col_labels, header=0)\n",
    "\n",
    "    dem_train_df_comp = pd.read_csv(f'Outputs/{color}_train_data_label.csv', names=col_labels, header=0)\n",
    "    dem_test_df_comp = pd.read_csv(f'Outputs/{color}_test_data_label.csv', names=col_labels, header=0)\n",
    "    dem_val_df_comp = pd.read_csv(f'Outputs/{color}_val_data_label.csv', names=col_labels, header=0)\n",
    "\n",
    "    prepross_train = pd.read_csv(f'Outputs/{color}_processed_train_df.csv').drop(['Unnamed: 0'], axis=1)\n",
    "    prepross_test = pd.read_csv(f'Outputs/{color}_processed_test_df.csv').drop(['Unnamed: 0'], axis=1)\n",
    "    prepross_val = pd.read_csv(f'Outputs/{color}_processed_val_df.csv').drop(['Unnamed: 0'], axis=1)\n",
    "\n",
    "else:\n",
    "    dem_train_df_egs = pd.read_csv('Outputs/train_data_egs_label.csv', names=col_labels, header=0)\n",
    "    dem_test_df_egs = pd.read_csv('Outputs/test_data_egs_label.csv', names=col_labels, header=0)\n",
    "    dem_val_df_egs = pd.read_csv('Outputs/val_data_egs_label.csv', names=col_labels, header=0)\n",
    "\n",
    "    dem_train_df_comp = pd.read_csv('Outputs/train_data_label.csv', names=col_labels, header=0)\n",
    "    dem_test_df_comp = pd.read_csv('Outputs/test_data_label.csv', names=col_labels, header=0)\n",
    "    dem_val_df_comp = pd.read_csv('Outputs/val_data_label.csv', names=col_labels, header=0)\n",
    "\n",
    "    prepross_train = pd.read_csv('Outputs/processed_train_df.csv').drop(['Unnamed: 0'], axis=1)\n",
    "    prepross_test = pd.read_csv('Outputs/processed_test_df.csv').drop(['Unnamed: 0'], axis=1)\n",
    "    prepross_val = pd.read_csv('Outputs/processed_val_df.csv').drop(['Unnamed: 0'], axis=1)\n",
    "\n",
    "dem_train_df_egs = dem_train_df_egs.merge(prepross_train, how='inner', on='image_file')\n",
    "dem_test_df_egs = dem_test_df_egs.merge(prepross_test, how='inner', on='image_file')\n",
    "dem_val_df_egs = dem_val_df_egs.merge(prepross_val, how='inner', on='image_file')\n",
    "\n",
    "dem_train_df_comp = dem_train_df_comp.merge(prepross_train, how='inner', on='image_file')\n",
    "dem_test_df_comp = dem_test_df_comp.merge(prepross_test, how='inner', on='image_file')\n",
    "dem_val_df_comp = dem_val_df_comp.merge(prepross_val, how='inner', on='image_file')\n",
    "\n",
    "df_cat = pd.read_csv(f'Outputs/categories_{color}.csv').drop(['Unnamed: 0'], axis=1)\n",
    "\n",
    "dem_train_df_egs = dem_train_df_egs.merge(df_cat, how='inner', on='image_file')\n",
    "dem_test_df_egs = dem_test_df_egs.merge(df_cat, how='inner', on='image_file')\n",
    "dem_val_df_egs = dem_val_df_egs.merge(df_cat, how='inner', on='image_file')\n",
    "\n",
    "df_list = [dem_train_df_egs, dem_test_df_egs, dem_val_df_egs, dem_train_df_comp, dem_test_df_comp, dem_val_df_comp]"
   ]
  },
  {
   "cell_type": "code",
   "execution_count": 17,
   "metadata": {},
   "outputs": [
    {
     "data": {
      "text/html": [
       "<div>\n",
       "<style scoped>\n",
       "    .dataframe tbody tr th:only-of-type {\n",
       "        vertical-align: middle;\n",
       "    }\n",
       "\n",
       "    .dataframe tbody tr th {\n",
       "        vertical-align: top;\n",
       "    }\n",
       "\n",
       "    .dataframe thead th {\n",
       "        text-align: right;\n",
       "    }\n",
       "</style>\n",
       "<table border=\"1\" class=\"dataframe\">\n",
       "  <thead>\n",
       "    <tr style=\"text-align: right;\">\n",
       "      <th></th>\n",
       "      <th>og_idx</th>\n",
       "      <th>tpop</th>\n",
       "      <th>bpop</th>\n",
       "      <th>wpop</th>\n",
       "      <th>area</th>\n",
       "      <th>label</th>\n",
       "      <th>image_file</th>\n",
       "      <th>process_image</th>\n",
       "    </tr>\n",
       "  </thead>\n",
       "  <tbody>\n",
       "    <tr>\n",
       "      <th>0</th>\n",
       "      <td>4921</td>\n",
       "      <td>708585</td>\n",
       "      <td>34089</td>\n",
       "      <td>674496</td>\n",
       "      <td>1.449730</td>\n",
       "      <td>False</td>\n",
       "      <td>plot274d17.png</td>\n",
       "      <td>_1220_3560968.png</td>\n",
       "    </tr>\n",
       "    <tr>\n",
       "      <th>1</th>\n",
       "      <td>8501</td>\n",
       "      <td>695322</td>\n",
       "      <td>334409</td>\n",
       "      <td>360913</td>\n",
       "      <td>0.014349</td>\n",
       "      <td>False</td>\n",
       "      <td>plot473d15.png</td>\n",
       "      <td>_2601_2833792.png</td>\n",
       "    </tr>\n",
       "    <tr>\n",
       "      <th>2</th>\n",
       "      <td>1758</td>\n",
       "      <td>700623</td>\n",
       "      <td>128809</td>\n",
       "      <td>571814</td>\n",
       "      <td>0.089332</td>\n",
       "      <td>True</td>\n",
       "      <td>plot98d18.png</td>\n",
       "      <td>_6458_534301.png</td>\n",
       "    </tr>\n",
       "    <tr>\n",
       "      <th>3</th>\n",
       "      <td>8817</td>\n",
       "      <td>700303</td>\n",
       "      <td>39435</td>\n",
       "      <td>660868</td>\n",
       "      <td>0.428190</td>\n",
       "      <td>False</td>\n",
       "      <td>plot490d13.png</td>\n",
       "      <td>_2714_9568743.png</td>\n",
       "    </tr>\n",
       "    <tr>\n",
       "      <th>4</th>\n",
       "      <td>1143</td>\n",
       "      <td>713032</td>\n",
       "      <td>353656</td>\n",
       "      <td>359376</td>\n",
       "      <td>0.011783</td>\n",
       "      <td>True</td>\n",
       "      <td>plot64d8.png</td>\n",
       "      <td>_6206_3393055.png</td>\n",
       "    </tr>\n",
       "    <tr>\n",
       "      <th>...</th>\n",
       "      <td>...</td>\n",
       "      <td>...</td>\n",
       "      <td>...</td>\n",
       "      <td>...</td>\n",
       "      <td>...</td>\n",
       "      <td>...</td>\n",
       "      <td>...</td>\n",
       "      <td>...</td>\n",
       "    </tr>\n",
       "    <tr>\n",
       "      <th>6475</th>\n",
       "      <td>1160</td>\n",
       "      <td>698711</td>\n",
       "      <td>22248</td>\n",
       "      <td>676463</td>\n",
       "      <td>0.474896</td>\n",
       "      <td>True</td>\n",
       "      <td>plot65d11.png</td>\n",
       "      <td>_6207_9061433.png</td>\n",
       "    </tr>\n",
       "    <tr>\n",
       "      <th>6476</th>\n",
       "      <td>5770</td>\n",
       "      <td>703386</td>\n",
       "      <td>39814</td>\n",
       "      <td>663572</td>\n",
       "      <td>0.318272</td>\n",
       "      <td>True</td>\n",
       "      <td>plot321d4.png</td>\n",
       "      <td>_1558_7752262.png</td>\n",
       "    </tr>\n",
       "    <tr>\n",
       "      <th>6477</th>\n",
       "      <td>673</td>\n",
       "      <td>714418</td>\n",
       "      <td>33387</td>\n",
       "      <td>681031</td>\n",
       "      <td>0.305488</td>\n",
       "      <td>False</td>\n",
       "      <td>plot38d17.png</td>\n",
       "      <td>_2037_712503.png</td>\n",
       "    </tr>\n",
       "    <tr>\n",
       "      <th>6478</th>\n",
       "      <td>8781</td>\n",
       "      <td>700303</td>\n",
       "      <td>39435</td>\n",
       "      <td>660868</td>\n",
       "      <td>0.428190</td>\n",
       "      <td>False</td>\n",
       "      <td>plot488d13.png</td>\n",
       "      <td>_2694_453648.png</td>\n",
       "    </tr>\n",
       "    <tr>\n",
       "      <th>6479</th>\n",
       "      <td>7333</td>\n",
       "      <td>693220</td>\n",
       "      <td>24972</td>\n",
       "      <td>668248</td>\n",
       "      <td>0.617452</td>\n",
       "      <td>False</td>\n",
       "      <td>plot408d17.png</td>\n",
       "      <td>_5379_5979275.png</td>\n",
       "    </tr>\n",
       "  </tbody>\n",
       "</table>\n",
       "<p>6480 rows × 8 columns</p>\n",
       "</div>"
      ],
      "text/plain": [
       "      og_idx    tpop    bpop    wpop      area  label      image_file  \\\n",
       "0       4921  708585   34089  674496  1.449730  False  plot274d17.png   \n",
       "1       8501  695322  334409  360913  0.014349  False  plot473d15.png   \n",
       "2       1758  700623  128809  571814  0.089332   True   plot98d18.png   \n",
       "3       8817  700303   39435  660868  0.428190  False  plot490d13.png   \n",
       "4       1143  713032  353656  359376  0.011783   True    plot64d8.png   \n",
       "...      ...     ...     ...     ...       ...    ...             ...   \n",
       "6475    1160  698711   22248  676463  0.474896   True   plot65d11.png   \n",
       "6476    5770  703386   39814  663572  0.318272   True   plot321d4.png   \n",
       "6477     673  714418   33387  681031  0.305488  False   plot38d17.png   \n",
       "6478    8781  700303   39435  660868  0.428190  False  plot488d13.png   \n",
       "6479    7333  693220   24972  668248  0.617452  False  plot408d17.png   \n",
       "\n",
       "          process_image  \n",
       "0     _1220_3560968.png  \n",
       "1     _2601_2833792.png  \n",
       "2      _6458_534301.png  \n",
       "3     _2714_9568743.png  \n",
       "4     _6206_3393055.png  \n",
       "...                 ...  \n",
       "6475  _6207_9061433.png  \n",
       "6476  _1558_7752262.png  \n",
       "6477   _2037_712503.png  \n",
       "6478   _2694_453648.png  \n",
       "6479  _5379_5979275.png  \n",
       "\n",
       "[6480 rows x 8 columns]"
      ]
     },
     "execution_count": 17,
     "metadata": {},
     "output_type": "execute_result"
    }
   ],
   "source": [
    "dem_train_df_egs"
   ]
  },
  {
   "cell_type": "code",
   "execution_count": 18,
   "metadata": {},
   "outputs": [
    {
     "data": {
      "text/html": [
       "<div>\n",
       "<style scoped>\n",
       "    .dataframe tbody tr th:only-of-type {\n",
       "        vertical-align: middle;\n",
       "    }\n",
       "\n",
       "    .dataframe tbody tr th {\n",
       "        vertical-align: top;\n",
       "    }\n",
       "\n",
       "    .dataframe thead th {\n",
       "        text-align: right;\n",
       "    }\n",
       "</style>\n",
       "<table border=\"1\" class=\"dataframe\">\n",
       "  <thead>\n",
       "    <tr style=\"text-align: right;\">\n",
       "      <th></th>\n",
       "      <th>og_idx</th>\n",
       "      <th>tpop</th>\n",
       "      <th>bpop</th>\n",
       "      <th>wpop</th>\n",
       "      <th>area</th>\n",
       "      <th>label</th>\n",
       "      <th>image_file</th>\n",
       "      <th>process_image</th>\n",
       "    </tr>\n",
       "  </thead>\n",
       "  <tbody>\n",
       "    <tr>\n",
       "      <th>0</th>\n",
       "      <td>4921</td>\n",
       "      <td>708585</td>\n",
       "      <td>34089</td>\n",
       "      <td>674496</td>\n",
       "      <td>1.449730</td>\n",
       "      <td>False</td>\n",
       "      <td>plot274d17.png</td>\n",
       "      <td>_1220_3560968.png</td>\n",
       "    </tr>\n",
       "    <tr>\n",
       "      <th>1</th>\n",
       "      <td>8501</td>\n",
       "      <td>695322</td>\n",
       "      <td>334409</td>\n",
       "      <td>360913</td>\n",
       "      <td>0.014349</td>\n",
       "      <td>False</td>\n",
       "      <td>plot473d15.png</td>\n",
       "      <td>_2601_2833792.png</td>\n",
       "    </tr>\n",
       "    <tr>\n",
       "      <th>2</th>\n",
       "      <td>1758</td>\n",
       "      <td>700623</td>\n",
       "      <td>128809</td>\n",
       "      <td>571814</td>\n",
       "      <td>0.089332</td>\n",
       "      <td>True</td>\n",
       "      <td>plot98d18.png</td>\n",
       "      <td>_6458_534301.png</td>\n",
       "    </tr>\n",
       "    <tr>\n",
       "      <th>3</th>\n",
       "      <td>8817</td>\n",
       "      <td>700303</td>\n",
       "      <td>39435</td>\n",
       "      <td>660868</td>\n",
       "      <td>0.428190</td>\n",
       "      <td>False</td>\n",
       "      <td>plot490d13.png</td>\n",
       "      <td>_2714_9568743.png</td>\n",
       "    </tr>\n",
       "    <tr>\n",
       "      <th>4</th>\n",
       "      <td>1143</td>\n",
       "      <td>713032</td>\n",
       "      <td>353656</td>\n",
       "      <td>359376</td>\n",
       "      <td>0.011783</td>\n",
       "      <td>True</td>\n",
       "      <td>plot64d8.png</td>\n",
       "      <td>_6206_3393055.png</td>\n",
       "    </tr>\n",
       "    <tr>\n",
       "      <th>...</th>\n",
       "      <td>...</td>\n",
       "      <td>...</td>\n",
       "      <td>...</td>\n",
       "      <td>...</td>\n",
       "      <td>...</td>\n",
       "      <td>...</td>\n",
       "      <td>...</td>\n",
       "      <td>...</td>\n",
       "    </tr>\n",
       "    <tr>\n",
       "      <th>6475</th>\n",
       "      <td>1160</td>\n",
       "      <td>698711</td>\n",
       "      <td>22248</td>\n",
       "      <td>676463</td>\n",
       "      <td>0.474896</td>\n",
       "      <td>True</td>\n",
       "      <td>plot65d11.png</td>\n",
       "      <td>_6207_9061433.png</td>\n",
       "    </tr>\n",
       "    <tr>\n",
       "      <th>6476</th>\n",
       "      <td>5770</td>\n",
       "      <td>703386</td>\n",
       "      <td>39814</td>\n",
       "      <td>663572</td>\n",
       "      <td>0.318272</td>\n",
       "      <td>False</td>\n",
       "      <td>plot321d4.png</td>\n",
       "      <td>_1558_7752262.png</td>\n",
       "    </tr>\n",
       "    <tr>\n",
       "      <th>6477</th>\n",
       "      <td>673</td>\n",
       "      <td>714418</td>\n",
       "      <td>33387</td>\n",
       "      <td>681031</td>\n",
       "      <td>0.305488</td>\n",
       "      <td>False</td>\n",
       "      <td>plot38d17.png</td>\n",
       "      <td>_2037_712503.png</td>\n",
       "    </tr>\n",
       "    <tr>\n",
       "      <th>6478</th>\n",
       "      <td>8781</td>\n",
       "      <td>700303</td>\n",
       "      <td>39435</td>\n",
       "      <td>660868</td>\n",
       "      <td>0.428190</td>\n",
       "      <td>False</td>\n",
       "      <td>plot488d13.png</td>\n",
       "      <td>_2694_453648.png</td>\n",
       "    </tr>\n",
       "    <tr>\n",
       "      <th>6479</th>\n",
       "      <td>7333</td>\n",
       "      <td>693220</td>\n",
       "      <td>24972</td>\n",
       "      <td>668248</td>\n",
       "      <td>0.617452</td>\n",
       "      <td>True</td>\n",
       "      <td>plot408d17.png</td>\n",
       "      <td>_5379_5979275.png</td>\n",
       "    </tr>\n",
       "  </tbody>\n",
       "</table>\n",
       "<p>6480 rows × 8 columns</p>\n",
       "</div>"
      ],
      "text/plain": [
       "      og_idx    tpop    bpop    wpop      area  label      image_file  \\\n",
       "0       4921  708585   34089  674496  1.449730  False  plot274d17.png   \n",
       "1       8501  695322  334409  360913  0.014349  False  plot473d15.png   \n",
       "2       1758  700623  128809  571814  0.089332   True   plot98d18.png   \n",
       "3       8817  700303   39435  660868  0.428190  False  plot490d13.png   \n",
       "4       1143  713032  353656  359376  0.011783   True    plot64d8.png   \n",
       "...      ...     ...     ...     ...       ...    ...             ...   \n",
       "6475    1160  698711   22248  676463  0.474896   True   plot65d11.png   \n",
       "6476    5770  703386   39814  663572  0.318272  False   plot321d4.png   \n",
       "6477     673  714418   33387  681031  0.305488  False   plot38d17.png   \n",
       "6478    8781  700303   39435  660868  0.428190  False  plot488d13.png   \n",
       "6479    7333  693220   24972  668248  0.617452   True  plot408d17.png   \n",
       "\n",
       "          process_image  \n",
       "0     _1220_3560968.png  \n",
       "1     _2601_2833792.png  \n",
       "2      _6458_534301.png  \n",
       "3     _2714_9568743.png  \n",
       "4     _6206_3393055.png  \n",
       "...                 ...  \n",
       "6475  _6207_9061433.png  \n",
       "6476  _1558_7752262.png  \n",
       "6477   _2037_712503.png  \n",
       "6478   _2694_453648.png  \n",
       "6479  _5379_5979275.png  \n",
       "\n",
       "[6480 rows x 8 columns]"
      ]
     },
     "execution_count": 18,
     "metadata": {},
     "output_type": "execute_result"
    }
   ],
   "source": [
    "dem_train_df_comp"
   ]
  },
  {
   "cell_type": "markdown",
   "metadata": {},
   "source": [
    "### Helper Functions"
   ]
  },
  {
   "cell_type": "code",
   "execution_count": 6,
   "metadata": {},
   "outputs": [],
   "source": [
    "def normalize(df, cols):\n",
    "    \"\"\"\n",
    "    Min-max normalizes provided columns within dataframe.\n",
    "\n",
    "    Paramters: \n",
    "        df: pd.Dataframe - dataframe with columns to normalize\n",
    "        cols: list - list of column names as strings to normalize\n",
    "\n",
    "    return: \n",
    "        None - Normalizes the provided columns in df in place\n",
    "    \"\"\"\n",
    "    x = df[cols].values\n",
    "    min_max_scaler = preprocessing.MinMaxScaler()\n",
    "    x_scaled = min_max_scaler.fit_transform(x)\n",
    "    df[cols] = x_scaled"
   ]
  },
  {
   "cell_type": "code",
   "execution_count": 7,
   "metadata": {},
   "outputs": [],
   "source": [
    "def img_array(df_image_col, subset, color=None, resize=False):\n",
    "    \"\"\"\n",
    "    Converts images to np.array format for use in Keras models.\n",
    "\n",
    "    Paramters: \n",
    "        df_image_col: pd.Dataframe column, list - column in dataframe with image file names as strings\n",
    "        subset: str - subset that the data belongs to. One of three options: 'train', 'test', 'val'\n",
    "        color: str - color of districts that corresponds to the save directory with the images. E.g., 'blue', 'red'. Default=None\n",
    "        resize: Boolean - whether the images have been preprocessed/resized. Default=False\n",
    "\n",
    "    return: \n",
    "        ret_arr: np.array - numerical representation of images in single array\n",
    "    \"\"\"\n",
    "    # initialize return array\n",
    "    ret_arr = []\n",
    "\n",
    "    # loop through image file names\n",
    "    for i in df_image_col:\n",
    "\n",
    "        # read and append image to return array\n",
    "        if resize:\n",
    "            \n",
    "            if color is not None:\n",
    "                im = cv2.imread('Outputs/images/'+ color + '/' + subset + '/' + 'processed/' + i)\n",
    "            \n",
    "            else:\n",
    "                im = cv2.imread('Outputs/images/'+ subset + '/' + 'processed/' + i)\n",
    "        else:\n",
    "            im = cv2.imread('Outputs/images/'+ subset + '/' + i)\n",
    "            \n",
    "        ret_arr.append(im)\n",
    "\n",
    "    return np.array(ret_arr, dtype=object)"
   ]
  },
  {
   "cell_type": "code",
   "execution_count": 8,
   "metadata": {},
   "outputs": [],
   "source": [
    "def gen_report(fit_model, test_data, test_labels, title, le=None, multiclass=False):\n",
    "    \"\"\"\n",
    "    Generates confusion matrix and classification report for given model on provided test data.\n",
    "\n",
    "    Paramters: \n",
    "        fit_model: Keras.model - compiled Keras model\n",
    "        test_data: np.array, pd.Dataframe column, list - X input for test data\n",
    "        test_labels: np.array, pd.Dataframe column, list - y input for test data (labels)\n",
    "        title: str - title of confusion matrix\n",
    "        le: preprocessing.LabelEncoder - label encoder to encode multiclass labels to numerical values [0,1,2]. Default=None\n",
    "        multiclass: Boolean - whether the model is predicting a binary (False) or multiclass (True) output label. Default=False\n",
    "\n",
    "    return: \n",
    "        None - generates the confusion matrix that can then be saved and prints the classification report \n",
    "    \"\"\"\n",
    "    # make model predictions on test data\n",
    "    preds = fit_model.predict(test_data)\n",
    "\n",
    "    # generate confusion matrix comparing predictions to actual labels\n",
    "    if multiclass:\n",
    "\n",
    "        # reverse label encoding so confusion matrix displays actual labels not integers\n",
    "        pred_labels = le.inverse_transform([np.argmax(x) for x in preds])\n",
    "        test_labels = le.inverse_transform(test_labels)\n",
    "\n",
    "        conf = confusion_matrix(test_labels, pred_labels, labels=['low', 'medium', 'high'])\n",
    "        disp = ConfusionMatrixDisplay(confusion_matrix=conf, display_labels=['low', 'medium', 'high'])\n",
    "    \n",
    "    else:\n",
    "\n",
    "        # get Boolean label from continuous prediction confidence score\n",
    "        pred_labels = [False if x < 0.5 else True for x in preds]\n",
    "        \n",
    "        conf = confusion_matrix(test_labels, pred_labels)\n",
    "        disp = ConfusionMatrixDisplay(confusion_matrix=conf)\n",
    "    \n",
    "    # display confusion matrix\n",
    "    disp.plot(cmap=plt.cm.Blues)\n",
    "    plt.title(title)\n",
    "    plt.show()\n",
    "\n",
    "    # print classification report\n",
    "    print(classification_report(test_labels, pred_labels))"
   ]
  },
  {
   "cell_type": "markdown",
   "metadata": {},
   "source": [
    "### Final Data Preparation"
   ]
  },
  {
   "cell_type": "code",
   "execution_count": 19,
   "metadata": {},
   "outputs": [],
   "source": [
    "# normalize demographic features\n",
    "cols = ['tpop', 'bpop', 'wpop', 'area']\n",
    "\n",
    "for df in df_list:\n",
    "    normalize(df, cols)"
   ]
  },
  {
   "cell_type": "code",
   "execution_count": 20,
   "metadata": {},
   "outputs": [
    {
     "data": {
      "text/html": [
       "<div>\n",
       "<style scoped>\n",
       "    .dataframe tbody tr th:only-of-type {\n",
       "        vertical-align: middle;\n",
       "    }\n",
       "\n",
       "    .dataframe tbody tr th {\n",
       "        vertical-align: top;\n",
       "    }\n",
       "\n",
       "    .dataframe thead th {\n",
       "        text-align: right;\n",
       "    }\n",
       "</style>\n",
       "<table border=\"1\" class=\"dataframe\">\n",
       "  <thead>\n",
       "    <tr style=\"text-align: right;\">\n",
       "      <th></th>\n",
       "      <th>og_idx</th>\n",
       "      <th>tpop</th>\n",
       "      <th>bpop</th>\n",
       "      <th>wpop</th>\n",
       "      <th>area</th>\n",
       "      <th>label</th>\n",
       "      <th>image_file</th>\n",
       "      <th>process_image</th>\n",
       "    </tr>\n",
       "  </thead>\n",
       "  <tbody>\n",
       "    <tr>\n",
       "      <th>0</th>\n",
       "      <td>4921</td>\n",
       "      <td>0.637196</td>\n",
       "      <td>0.060505</td>\n",
       "      <td>0.921169</td>\n",
       "      <td>0.383303</td>\n",
       "      <td>False</td>\n",
       "      <td>plot274d17.png</td>\n",
       "      <td>_1220_3560968.png</td>\n",
       "    </tr>\n",
       "    <tr>\n",
       "      <th>1</th>\n",
       "      <td>8501</td>\n",
       "      <td>0.166643</td>\n",
       "      <td>0.786097</td>\n",
       "      <td>0.182638</td>\n",
       "      <td>0.000684</td>\n",
       "      <td>False</td>\n",
       "      <td>plot473d15.png</td>\n",
       "      <td>_2601_2833792.png</td>\n",
       "    </tr>\n",
       "    <tr>\n",
       "      <th>2</th>\n",
       "      <td>1758</td>\n",
       "      <td>0.354715</td>\n",
       "      <td>0.289355</td>\n",
       "      <td>0.679339</td>\n",
       "      <td>0.020672</td>\n",
       "      <td>True</td>\n",
       "      <td>plot98d18.png</td>\n",
       "      <td>_6458_534301.png</td>\n",
       "    </tr>\n",
       "    <tr>\n",
       "      <th>3</th>\n",
       "      <td>8817</td>\n",
       "      <td>0.343362</td>\n",
       "      <td>0.073422</td>\n",
       "      <td>0.889073</td>\n",
       "      <td>0.110999</td>\n",
       "      <td>False</td>\n",
       "      <td>plot490d13.png</td>\n",
       "      <td>_2714_9568743.png</td>\n",
       "    </tr>\n",
       "    <tr>\n",
       "      <th>4</th>\n",
       "      <td>1143</td>\n",
       "      <td>0.794969</td>\n",
       "      <td>0.832598</td>\n",
       "      <td>0.179019</td>\n",
       "      <td>0.000000</td>\n",
       "      <td>True</td>\n",
       "      <td>plot64d8.png</td>\n",
       "      <td>_6206_3393055.png</td>\n",
       "    </tr>\n",
       "  </tbody>\n",
       "</table>\n",
       "</div>"
      ],
      "text/plain": [
       "   og_idx      tpop      bpop      wpop      area  label      image_file  \\\n",
       "0    4921  0.637196  0.060505  0.921169  0.383303  False  plot274d17.png   \n",
       "1    8501  0.166643  0.786097  0.182638  0.000684  False  plot473d15.png   \n",
       "2    1758  0.354715  0.289355  0.679339  0.020672   True   plot98d18.png   \n",
       "3    8817  0.343362  0.073422  0.889073  0.110999  False  plot490d13.png   \n",
       "4    1143  0.794969  0.832598  0.179019  0.000000   True    plot64d8.png   \n",
       "\n",
       "       process_image  \n",
       "0  _1220_3560968.png  \n",
       "1  _2601_2833792.png  \n",
       "2   _6458_534301.png  \n",
       "3  _2714_9568743.png  \n",
       "4  _6206_3393055.png  "
      ]
     },
     "execution_count": 20,
     "metadata": {},
     "output_type": "execute_result"
    }
   ],
   "source": [
    "dem_train_df_egs.head()"
   ]
  },
  {
   "cell_type": "code",
   "execution_count": 21,
   "metadata": {},
   "outputs": [],
   "source": [
    "# create image arrays for both compactness labeled data and EGS labeled data\n",
    "\n",
    "# compactness label df\n",
    "train_images_comp = img_array(dem_train_df_comp['process_image'], 'train', color=color,resize=True)\n",
    "test_images_comp = img_array(dem_test_df_comp['process_image'], 'test', color=color,resize=True)\n",
    "val_images_comp = img_array(dem_val_df_comp['process_image'], 'val', color=color,resize=True)\n",
    "\n",
    "# egs label df\n",
    "train_images_pross = img_array(dem_train_df_egs['process_image'], 'train', color=color, resize=True)\n",
    "test_images_pross = img_array(dem_test_df_egs['process_image'], 'test', color=color, resize=True)\n",
    "val_images_pross = img_array(dem_val_df_egs['process_image'], 'val', color=color, resize=True)"
   ]
  },
  {
   "cell_type": "code",
   "execution_count": null,
   "metadata": {},
   "outputs": [],
   "source": [
    "# encode multiclass labels to numerical values\n",
    "le = preprocessing.LabelEncoder()\n",
    "\n",
    "le.fit(dem_train_df_egs['category'].values)\n",
    "y_train = le.transform(dem_train_df_egs['category'].values)\n",
    "\n",
    "le.fit(dem_val_df_egs['category'].values)\n",
    "y_val = le.transform(dem_val_df_egs['category'].values)\n",
    "\n",
    "le.fit(dem_test_df_egs['category'].values)\n",
    "y_test = le.transform(dem_test_df_egs['category'].values)"
   ]
  },
  {
   "cell_type": "markdown",
   "metadata": {},
   "source": [
    "### Create Models"
   ]
  },
  {
   "cell_type": "code",
   "execution_count": 12,
   "metadata": {},
   "outputs": [],
   "source": [
    "# make individual CNN and NN models with functions from models.ipynb\n",
    "cnn = make_vgg16(dropout=0.2)\n",
    "nn = make_nn(4)\n",
    "\n",
    "# combine the model outputs\n",
    "combined_model = tf.keras.layers.concatenate([nn.output, cnn.output],axis=1)\n",
    "\n",
    "# final output layers\n",
    "x = Dense(4, activation='relu')(combined_model)\n",
    "x = Dense(1, activation='sigmoid')(x)\n",
    "\n",
    "model = Model(inputs=[nn.input, cnn.input], outputs=x)"
   ]
  },
  {
   "cell_type": "code",
   "execution_count": 11,
   "metadata": {},
   "outputs": [],
   "source": [
    "# multiclass model\n",
    "x2 = Dense(4, activation='relu')(combined_model)\n",
    "x2 = Dense(3, activation='softmax')(x2)\n",
    "\n",
    "cat_model = Model(inputs=[nn.input, cnn.input], outputs=x2)"
   ]
  },
  {
   "cell_type": "markdown",
   "metadata": {},
   "source": [
    "### Compile Models"
   ]
  },
  {
   "cell_type": "code",
   "execution_count": 13,
   "metadata": {},
   "outputs": [],
   "source": [
    "opt = Adam(learning_rate=1e-3, epsilon=1e-3 / 200) \n",
    "model.compile(loss='binary_crossentropy', optimizer=opt, metrics=['accuracy'])"
   ]
  },
  {
   "cell_type": "code",
   "execution_count": 13,
   "metadata": {},
   "outputs": [],
   "source": [
    "cat_model.compile(loss='sparse_categorical_crossentropy', optimizer=opt, metrics=['accuracy'])"
   ]
  },
  {
   "cell_type": "markdown",
   "metadata": {},
   "source": [
    "### Fit, Train, and Test Models"
   ]
  },
  {
   "cell_type": "code",
   "execution_count": 32,
   "metadata": {},
   "outputs": [],
   "source": [
    "# create early stopping callback\n",
    "early = EarlyStopping(monitor='val_accuracy', min_delta=0, patience=3, verbose=1, mode='auto')"
   ]
  },
  {
   "cell_type": "markdown",
   "metadata": {},
   "source": [
    "##### EGS-Labeled Model"
   ]
  },
  {
   "cell_type": "code",
   "execution_count": 23,
   "metadata": {},
   "outputs": [
    {
     "name": "stdout",
     "output_type": "stream",
     "text": [
      "Epoch 1/20\n",
      "203/203 [==============================] - 460s 2s/step - loss: 0.6852 - accuracy: 0.6275 - val_loss: 0.6691 - val_accuracy: 0.6764\n",
      "Epoch 2/20\n",
      "203/203 [==============================] - 446s 2s/step - loss: 0.6661 - accuracy: 0.6514 - val_loss: 0.6531 - val_accuracy: 0.6764\n",
      "Epoch 3/20\n",
      "203/203 [==============================] - 456s 2s/step - loss: 0.6564 - accuracy: 0.6514 - val_loss: 0.6435 - val_accuracy: 0.6764\n",
      "Epoch 4/20\n",
      "203/203 [==============================] - 451s 2s/step - loss: 0.6512 - accuracy: 0.6514 - val_loss: 0.6379 - val_accuracy: 0.6764\n",
      "Epoch 00004: early stopping\n"
     ]
    }
   ],
   "source": [
    "# egs label model - preprocessed images\n",
    "pre_egs_model = model.fit(\n",
    "\tx=[dem_train_df_egs.iloc[:,1:-3].values.astype(np.float32), train_images_pross.astype(np.float32)], \n",
    "\ty=dem_train_df_egs['label'].values,\n",
    "\tvalidation_data=([dem_val_df_egs.iloc[:,1:-3].values.astype(np.float32), val_images_pross.astype(np.float32)], dem_val_df_egs['label'].values),\n",
    "\tcallbacks=early,\n",
    "\tepochs=20,\n",
    "\tbatch_size=32)"
   ]
  },
  {
   "cell_type": "code",
   "execution_count": 46,
   "metadata": {},
   "outputs": [
    {
     "name": "stdout",
     "output_type": "stream",
     "text": [
      "85/85 [==============================] - 166s 2s/step - loss: 0.3728 - accuracy: 0.8556\n"
     ]
    },
    {
     "data": {
      "text/plain": [
       "[0.37280595302581787, 0.855555534362793]"
      ]
     },
     "execution_count": 46,
     "metadata": {},
     "output_type": "execute_result"
    }
   ],
   "source": [
    "# evaluate model\n",
    "eval_results = model.evaluate(x=[dem_test_df_egs.iloc[:,1:-3].values.astype(np.float32), test_images_pross.astype(np.float32)],\n",
    "y=dem_test_df_egs['label'].values)\n",
    "\n",
    "eval_results"
   ]
  },
  {
   "cell_type": "markdown",
   "metadata": {},
   "source": [
    "##### Multiclass Model"
   ]
  },
  {
   "cell_type": "code",
   "execution_count": 16,
   "metadata": {},
   "outputs": [
    {
     "name": "stdout",
     "output_type": "stream",
     "text": [
      "Epoch 1/20\n",
      "203/203 [==============================] - 439s 2s/step - loss: 1.0742 - accuracy: 0.4923 - val_loss: 1.0286 - val_accuracy: 0.5111\n",
      "Epoch 2/20\n",
      "203/203 [==============================] - 438s 2s/step - loss: 0.9712 - accuracy: 0.5551 - val_loss: 0.9200 - val_accuracy: 0.6236\n",
      "Epoch 3/20\n",
      "203/203 [==============================] - 443s 2s/step - loss: 0.8623 - accuracy: 0.6515 - val_loss: 0.8440 - val_accuracy: 0.6583\n",
      "Epoch 4/20\n",
      "203/203 [==============================] - 437s 2s/step - loss: 0.8153 - accuracy: 0.6892 - val_loss: 0.8179 - val_accuracy: 0.6861\n",
      "Epoch 5/20\n",
      "203/203 [==============================] - 434s 2s/step - loss: 0.7779 - accuracy: 0.7023 - val_loss: 0.7904 - val_accuracy: 0.6889\n",
      "Epoch 6/20\n",
      "203/203 [==============================] - 432s 2s/step - loss: 0.7619 - accuracy: 0.7031 - val_loss: 0.7801 - val_accuracy: 0.7028\n",
      "Epoch 7/20\n",
      "203/203 [==============================] - 436s 2s/step - loss: 0.7526 - accuracy: 0.7060 - val_loss: 0.7712 - val_accuracy: 0.7028\n",
      "Epoch 8/20\n",
      "203/203 [==============================] - 442s 2s/step - loss: 0.7452 - accuracy: 0.7086 - val_loss: 0.7627 - val_accuracy: 0.7028\n",
      "Epoch 9/20\n",
      "203/203 [==============================] - 440s 2s/step - loss: 0.7408 - accuracy: 0.7113 - val_loss: 0.7656 - val_accuracy: 0.6986\n",
      "Epoch 00009: early stopping\n"
     ]
    }
   ],
   "source": [
    "# cateogorical model - low, med, high\n",
    "cat_pre_egs_model = cat_model.fit(\n",
    "\tx=[dem_train_df_egs.iloc[:,1:-4].values.astype(np.float32), train_images_pross.astype(np.float32)], \n",
    "\ty=y_train,\n",
    "\tvalidation_data=([dem_val_df_egs.iloc[:,1:-4].values.astype(np.float32), val_images_pross.astype(np.float32)], y_val),\n",
    "\tcallbacks=early,\n",
    "\tepochs=20,\n",
    "\tbatch_size=32)"
   ]
  },
  {
   "cell_type": "code",
   "execution_count": 17,
   "metadata": {},
   "outputs": [
    {
     "name": "stdout",
     "output_type": "stream",
     "text": [
      "57/57 [==============================] - 108s 2s/step - loss: 0.7444 - accuracy: 0.7083\n"
     ]
    },
    {
     "data": {
      "text/plain": [
       "[0.7444256544113159, 0.7083333134651184]"
      ]
     },
     "execution_count": 17,
     "metadata": {},
     "output_type": "execute_result"
    }
   ],
   "source": [
    "# evaluate model\n",
    "eval_results = cat_model.evaluate(x=[dem_test_df_egs.iloc[:,1:-4].values.astype(np.float32), test_images_pross.astype(np.float32)],\n",
    "y=y_test)\n",
    "\n",
    "eval_results"
   ]
  },
  {
   "cell_type": "code",
   "execution_count": 39,
   "metadata": {},
   "outputs": [
    {
     "data": {
      "image/png": "[encoded data removed]",
      "text/plain": [
       "<Figure size 432x288 with 2 Axes>"
      ]
     },
     "metadata": {
      "needs_background": "light"
     },
     "output_type": "display_data"
    },
    {
     "name": "stdout",
     "output_type": "stream",
     "text": [
      "              precision    recall  f1-score   support\n",
      "\n",
      "        high       0.69      0.77      0.73       602\n",
      "         low       0.00      0.00      0.00       297\n",
      "      medium       0.72      0.90      0.80       901\n",
      "\n",
      "    accuracy                           0.71      1800\n",
      "   macro avg       0.47      0.56      0.51      1800\n",
      "weighted avg       0.59      0.71      0.64      1800\n",
      "\n"
     ]
    },
    {
     "name": "stderr",
     "output_type": "stream",
     "text": [
      "c:\\Users\\Afris\\miniconda3\\lib\\site-packages\\sklearn\\metrics\\_classification.py:1327: UndefinedMetricWarning: Precision and F-score are ill-defined and being set to 0.0 in labels with no predicted samples. Use `zero_division` parameter to control this behavior.\n",
      "  _warn_prf(average, modifier, msg_start, len(result))\n",
      "c:\\Users\\Afris\\miniconda3\\lib\\site-packages\\sklearn\\metrics\\_classification.py:1327: UndefinedMetricWarning: Precision and F-score are ill-defined and being set to 0.0 in labels with no predicted samples. Use `zero_division` parameter to control this behavior.\n",
      "  _warn_prf(average, modifier, msg_start, len(result))\n",
      "c:\\Users\\Afris\\miniconda3\\lib\\site-packages\\sklearn\\metrics\\_classification.py:1327: UndefinedMetricWarning: Precision and F-score are ill-defined and being set to 0.0 in labels with no predicted samples. Use `zero_division` parameter to control this behavior.\n",
      "  _warn_prf(average, modifier, msg_start, len(result))\n"
     ]
    }
   ],
   "source": [
    "gen_report(cat_model, \n",
    "[dem_test_df_egs.iloc[:,1:-4].values.astype(np.float32), test_images_pross.astype(np.float32)],\n",
    "y_test,\n",
    "'Confusion Matrix - Multiclass Green District Model',\n",
    "le=le,\n",
    "multiclass=True\n",
    ")"
   ]
  },
  {
   "cell_type": "markdown",
   "metadata": {},
   "source": [
    "##### Compactness-Labeled Model"
   ]
  },
  {
   "cell_type": "code",
   "execution_count": 13,
   "metadata": {},
   "outputs": [
    {
     "name": "stdout",
     "output_type": "stream",
     "text": [
      "Epoch 1/20\n",
      "203/203 [==============================] - 434s 2s/step - loss: 0.7180 - accuracy: 0.5062 - val_loss: 0.6945 - val_accuracy: 0.5278\n",
      "Epoch 2/20\n",
      "203/203 [==============================] - 422s 2s/step - loss: 0.6947 - accuracy: 0.4940 - val_loss: 0.6942 - val_accuracy: 0.5083\n",
      "Epoch 3/20\n",
      "203/203 [==============================] - 442s 2s/step - loss: 0.6939 - accuracy: 0.4907 - val_loss: 0.6940 - val_accuracy: 0.4917\n",
      "Epoch 4/20\n",
      "203/203 [==============================] - 459s 2s/step - loss: 0.6933 - accuracy: 0.4991 - val_loss: 0.6934 - val_accuracy: 0.5069\n",
      "Epoch 00004: early stopping\n"
     ]
    }
   ],
   "source": [
    "# compactness label model\n",
    "comp_model = model.fit(\n",
    "\tx=[dem_train_df_comp.iloc[:,1:-3].values.astype(np.float32), train_images_comp.astype(np.float32)], \n",
    "\ty=dem_train_df_comp['label'].values,\n",
    "\tvalidation_data=([dem_val_df_comp.iloc[:,1:-3].values.astype(np.float32), val_images_comp.astype(np.float32)], dem_val_df_comp['label'].values),\n",
    "\tcallbacks=early,\n",
    "\tepochs=20,\n",
    "\tbatch_size=32)"
   ]
  },
  {
   "cell_type": "code",
   "execution_count": 14,
   "metadata": {},
   "outputs": [
    {
     "name": "stdout",
     "output_type": "stream",
     "text": [
      "57/57 [==============================] - 113s 2s/step - loss: 0.6931 - accuracy: 0.5089\n"
     ]
    },
    {
     "data": {
      "text/plain": [
       "[0.6930582523345947, 0.5088889002799988]"
      ]
     },
     "execution_count": 14,
     "metadata": {},
     "output_type": "execute_result"
    }
   ],
   "source": [
    "# evaluate model\n",
    "eval_results = model.evaluate(x=[dem_test_df_comp.iloc[:,1:-3].values.astype(np.float32), test_images_comp.astype(np.float32)],\n",
    "y=dem_test_df_comp['label'].values)\n",
    "\n",
    "eval_results"
   ]
  },
  {
   "cell_type": "code",
   "execution_count": 16,
   "metadata": {},
   "outputs": [
    {
     "data": {
      "image/png": "[encoded data removed]",
      "text/plain": [
       "<Figure size 432x288 with 2 Axes>"
      ]
     },
     "metadata": {
      "needs_background": "light"
     },
     "output_type": "display_data"
    },
    {
     "name": "stdout",
     "output_type": "stream",
     "text": [
      "              precision    recall  f1-score   support\n",
      "\n",
      "       False       0.49      0.32      0.39       872\n",
      "        True       0.52      0.68      0.59       928\n",
      "\n",
      "    accuracy                           0.51      1800\n",
      "   macro avg       0.50      0.50      0.49      1800\n",
      "weighted avg       0.50      0.51      0.49      1800\n",
      "\n"
     ]
    }
   ],
   "source": [
    "gen_report(model, \n",
    "[dem_test_df_comp.iloc[:,1:-3].values.astype(np.float32), test_images_comp.astype(np.float32)],\n",
    "dem_test_df_comp['label'].values,\n",
    "'Confusion Matrix - Compactness Model'\n",
    ")"
   ]
  },
  {
   "cell_type": "markdown",
   "metadata": {},
   "source": [
    "### Parameter Search with Keras Tuner"
   ]
  },
  {
   "cell_type": "code",
   "execution_count": 28,
   "metadata": {},
   "outputs": [
    {
     "name": "stdout",
     "output_type": "stream",
     "text": [
      "INFO:tensorflow:Reloading Oracle from existing project .\\hyperband_test_green\\oracle.json\n",
      "INFO:tensorflow:Reloading Tuner from .\\hyperband_test_green\\tuner0.json\n"
     ]
    }
   ],
   "source": [
    "tname = 'hyperband_test_green'\n",
    "rseed = 42\n",
    "\n",
    "# initialize hyperband tuner\n",
    "tuner = kt.Hyperband(trimmed_kt_model_build, objective='val_accuracy',\n",
    "                    max_epochs=10, project_name=tname, seed=rseed\n",
    ")\n",
    "\n",
    "# Bayesian\n",
    "# tuner = kt.BayesianOptimization(trimmed_kt_model_build, objective='val_accuracy',\n",
    "# max_trials=10, \n",
    "# seed= rseed,\n",
    "# project_name=tname\n",
    "# )"
   ]
  },
  {
   "cell_type": "code",
   "execution_count": 29,
   "metadata": {},
   "outputs": [
    {
     "name": "stdout",
     "output_type": "stream",
     "text": [
      "Trial 17 Complete [00h 44m 18s]\n",
      "val_accuracy: 0.8333333134651184\n",
      "\n",
      "Best val_accuracy So Far: 0.8333333134651184\n",
      "Total elapsed time: 01h 44m 28s\n",
      "\n",
      "Search: Running Trial #18\n",
      "\n",
      "Value             |Best Value So Far |Hyperparameter\n",
      "relu              |relu              |input_activation\n",
      "5                 |4                 |num_layers\n",
      "selu              |gelu              |activation_0\n",
      "12                |21                |nodes_0\n",
      "relu              |gelu              |activation_1\n",
      "12                |30                |nodes_1\n",
      "gelu              |selu              |activation_2\n",
      "30                |24                |nodes_2\n",
      "0.25              |0.3               |droprate\n",
      "3                 |4                 |cnn_set1_num_layers\n",
      "relu              |relu              |cnn_set1_activation_0\n",
      "3500              |3500              |cnn_set1_nodes_0\n",
      "selu              |relu              |cnn_set1_activation_1\n",
      "1500              |2500              |cnn_set1_nodes_1\n",
      "selu              |relu              |cnn_set1_activation_2\n",
      "4000              |2000              |cnn_set1_nodes_2\n",
      "0.003506          |0.0062099         |learning_rate\n",
      "1.8277e-07        |1.5711e-06        |epsilon\n",
      "selu              |selu              |cnn_set1_activation_3\n",
      "1000              |1000              |cnn_set1_nodes_3\n",
      "gelu              |relu              |activation_3\n",
      "33                |9                 |nodes_3\n",
      "selu              |gelu              |cnn_set1_activation_4\n",
      "1000              |3000              |cnn_set1_nodes_4\n",
      "10                |10                |tuner/epochs\n",
      "4                 |4                 |tuner/initial_epoch\n",
      "2                 |2                 |tuner/bracket\n",
      "2                 |2                 |tuner/round\n",
      "relu              |relu              |activation_4\n",
      "3                 |6                 |nodes_4\n",
      "0012              |0014              |tuner/trial_id\n",
      "\n",
      "Epoch 5/10\n",
      "  7/203 [>.............................] - ETA: 8:28 - loss: 1.7686 - accuracy: 0.5045"
     ]
    },
    {
     "ename": "KeyboardInterrupt",
     "evalue": "",
     "output_type": "error",
     "traceback": [
      "\u001b[1;31m---------------------------------------------------------------------------\u001b[0m",
      "\u001b[1;31mKeyboardInterrupt\u001b[0m                         Traceback (most recent call last)",
      "\u001b[1;32mc:\\Users\\Afris\\OneDrive\\Documents\\Schoolwork\\Dissertation\\GerryChain-Templates-master\\Pennsylvania\\modeling.ipynb Cell 37\u001b[0m in \u001b[0;36m<cell line: 2>\u001b[1;34m()\u001b[0m\n\u001b[0;32m      <a href='vscode-notebook-cell:/c%3A/Users/Afris/OneDrive/Documents/Schoolwork/Dissertation/GerryChain-Templates-master/Pennsylvania/modeling.ipynb#X51sZmlsZQ%3D%3D?line=0'>1</a>\u001b[0m \u001b[39m# search parameters \u001b[39;00m\n\u001b[1;32m----> <a href='vscode-notebook-cell:/c%3A/Users/Afris/OneDrive/Documents/Schoolwork/Dissertation/GerryChain-Templates-master/Pennsylvania/modeling.ipynb#X51sZmlsZQ%3D%3D?line=1'>2</a>\u001b[0m tuner\u001b[39m.\u001b[39;49msearch(x\u001b[39m=\u001b[39;49m[dem_train_df_egs\u001b[39m.\u001b[39;49miloc[:,\u001b[39m1\u001b[39;49m:\u001b[39m-\u001b[39;49m\u001b[39m3\u001b[39;49m]\u001b[39m.\u001b[39;49mvalues\u001b[39m.\u001b[39;49mastype(np\u001b[39m.\u001b[39;49mfloat32), train_images_pross\u001b[39m.\u001b[39;49mastype(np\u001b[39m.\u001b[39;49mfloat32)], \n\u001b[0;32m      <a href='vscode-notebook-cell:/c%3A/Users/Afris/OneDrive/Documents/Schoolwork/Dissertation/GerryChain-Templates-master/Pennsylvania/modeling.ipynb#X51sZmlsZQ%3D%3D?line=2'>3</a>\u001b[0m \ty\u001b[39m=\u001b[39;49mdem_train_df_egs[\u001b[39m'\u001b[39;49m\u001b[39mlabel\u001b[39;49m\u001b[39m'\u001b[39;49m]\u001b[39m.\u001b[39;49mvalues,\n\u001b[0;32m      <a href='vscode-notebook-cell:/c%3A/Users/Afris/OneDrive/Documents/Schoolwork/Dissertation/GerryChain-Templates-master/Pennsylvania/modeling.ipynb#X51sZmlsZQ%3D%3D?line=3'>4</a>\u001b[0m \tvalidation_data\u001b[39m=\u001b[39;49m([dem_val_df_egs\u001b[39m.\u001b[39;49miloc[:,\u001b[39m1\u001b[39;49m:\u001b[39m-\u001b[39;49m\u001b[39m3\u001b[39;49m]\u001b[39m.\u001b[39;49mvalues\u001b[39m.\u001b[39;49mastype(np\u001b[39m.\u001b[39;49mfloat32), val_images_pross\u001b[39m.\u001b[39;49mastype(np\u001b[39m.\u001b[39;49mfloat32)], dem_val_df_egs[\u001b[39m'\u001b[39;49m\u001b[39mlabel\u001b[39;49m\u001b[39m'\u001b[39;49m]\u001b[39m.\u001b[39;49mvalues),\n\u001b[0;32m      <a href='vscode-notebook-cell:/c%3A/Users/Afris/OneDrive/Documents/Schoolwork/Dissertation/GerryChain-Templates-master/Pennsylvania/modeling.ipynb#X51sZmlsZQ%3D%3D?line=4'>5</a>\u001b[0m     epochs\u001b[39m=\u001b[39;49m\u001b[39m10\u001b[39;49m,\n\u001b[0;32m      <a href='vscode-notebook-cell:/c%3A/Users/Afris/OneDrive/Documents/Schoolwork/Dissertation/GerryChain-Templates-master/Pennsylvania/modeling.ipynb#X51sZmlsZQ%3D%3D?line=5'>6</a>\u001b[0m     batch_size\u001b[39m=\u001b[39;49m\u001b[39m32\u001b[39;49m,\n\u001b[0;32m      <a href='vscode-notebook-cell:/c%3A/Users/Afris/OneDrive/Documents/Schoolwork/Dissertation/GerryChain-Templates-master/Pennsylvania/modeling.ipynb#X51sZmlsZQ%3D%3D?line=6'>7</a>\u001b[0m     \u001b[39m# objective='val_accuracy'\u001b[39;49;00m\n\u001b[0;32m      <a href='vscode-notebook-cell:/c%3A/Users/Afris/OneDrive/Documents/Schoolwork/Dissertation/GerryChain-Templates-master/Pennsylvania/modeling.ipynb#X51sZmlsZQ%3D%3D?line=7'>8</a>\u001b[0m     \u001b[39m# directory='hyperband_test1/',\u001b[39;49;00m\n\u001b[0;32m      <a href='vscode-notebook-cell:/c%3A/Users/Afris/OneDrive/Documents/Schoolwork/Dissertation/GerryChain-Templates-master/Pennsylvania/modeling.ipynb#X51sZmlsZQ%3D%3D?line=8'>9</a>\u001b[0m     \u001b[39m# overwrite=False,\u001b[39;49;00m\n\u001b[0;32m     <a href='vscode-notebook-cell:/c%3A/Users/Afris/OneDrive/Documents/Schoolwork/Dissertation/GerryChain-Templates-master/Pennsylvania/modeling.ipynb#X51sZmlsZQ%3D%3D?line=9'>10</a>\u001b[0m     callbacks\u001b[39m=\u001b[39;49m[early]\n\u001b[0;32m     <a href='vscode-notebook-cell:/c%3A/Users/Afris/OneDrive/Documents/Schoolwork/Dissertation/GerryChain-Templates-master/Pennsylvania/modeling.ipynb#X51sZmlsZQ%3D%3D?line=10'>11</a>\u001b[0m     )\n",
      "File \u001b[1;32mc:\\Users\\Afris\\miniconda3\\lib\\site-packages\\keras_tuner\\engine\\base_tuner.py:183\u001b[0m, in \u001b[0;36mBaseTuner.search\u001b[1;34m(self, *fit_args, **fit_kwargs)\u001b[0m\n\u001b[0;32m    180\u001b[0m     \u001b[39mcontinue\u001b[39;00m\n\u001b[0;32m    182\u001b[0m \u001b[39mself\u001b[39m\u001b[39m.\u001b[39mon_trial_begin(trial)\n\u001b[1;32m--> 183\u001b[0m results \u001b[39m=\u001b[39m \u001b[39mself\u001b[39m\u001b[39m.\u001b[39mrun_trial(trial, \u001b[39m*\u001b[39mfit_args, \u001b[39m*\u001b[39m\u001b[39m*\u001b[39mfit_kwargs)\n\u001b[0;32m    184\u001b[0m \u001b[39m# `results` is None indicates user updated oracle in `run_trial()`.\u001b[39;00m\n\u001b[0;32m    185\u001b[0m \u001b[39mif\u001b[39;00m results \u001b[39mis\u001b[39;00m \u001b[39mNone\u001b[39;00m:\n",
      "File \u001b[1;32mc:\\Users\\Afris\\miniconda3\\lib\\site-packages\\keras_tuner\\tuners\\hyperband.py:384\u001b[0m, in \u001b[0;36mHyperband.run_trial\u001b[1;34m(self, trial, *fit_args, **fit_kwargs)\u001b[0m\n\u001b[0;32m    382\u001b[0m     fit_kwargs[\u001b[39m\"\u001b[39m\u001b[39mepochs\u001b[39m\u001b[39m\"\u001b[39m] \u001b[39m=\u001b[39m hp\u001b[39m.\u001b[39mvalues[\u001b[39m\"\u001b[39m\u001b[39mtuner/epochs\u001b[39m\u001b[39m\"\u001b[39m]\n\u001b[0;32m    383\u001b[0m     fit_kwargs[\u001b[39m\"\u001b[39m\u001b[39minitial_epoch\u001b[39m\u001b[39m\"\u001b[39m] \u001b[39m=\u001b[39m hp\u001b[39m.\u001b[39mvalues[\u001b[39m\"\u001b[39m\u001b[39mtuner/initial_epoch\u001b[39m\u001b[39m\"\u001b[39m]\n\u001b[1;32m--> 384\u001b[0m \u001b[39mreturn\u001b[39;00m \u001b[39msuper\u001b[39m(Hyperband, \u001b[39mself\u001b[39m)\u001b[39m.\u001b[39mrun_trial(trial, \u001b[39m*\u001b[39mfit_args, \u001b[39m*\u001b[39m\u001b[39m*\u001b[39mfit_kwargs)\n",
      "File \u001b[1;32mc:\\Users\\Afris\\miniconda3\\lib\\site-packages\\keras_tuner\\engine\\tuner.py:295\u001b[0m, in \u001b[0;36mTuner.run_trial\u001b[1;34m(self, trial, *args, **kwargs)\u001b[0m\n\u001b[0;32m    293\u001b[0m     callbacks\u001b[39m.\u001b[39mappend(model_checkpoint)\n\u001b[0;32m    294\u001b[0m     copied_kwargs[\u001b[39m\"\u001b[39m\u001b[39mcallbacks\u001b[39m\u001b[39m\"\u001b[39m] \u001b[39m=\u001b[39m callbacks\n\u001b[1;32m--> 295\u001b[0m     obj_value \u001b[39m=\u001b[39m \u001b[39mself\u001b[39m\u001b[39m.\u001b[39m_build_and_fit_model(trial, \u001b[39m*\u001b[39margs, \u001b[39m*\u001b[39m\u001b[39m*\u001b[39mcopied_kwargs)\n\u001b[0;32m    297\u001b[0m     histories\u001b[39m.\u001b[39mappend(obj_value)\n\u001b[0;32m    298\u001b[0m \u001b[39mreturn\u001b[39;00m histories\n",
      "File \u001b[1;32mc:\\Users\\Afris\\miniconda3\\lib\\site-packages\\keras_tuner\\engine\\tuner.py:222\u001b[0m, in \u001b[0;36mTuner._build_and_fit_model\u001b[1;34m(self, trial, *args, **kwargs)\u001b[0m\n\u001b[0;32m    220\u001b[0m hp \u001b[39m=\u001b[39m trial\u001b[39m.\u001b[39mhyperparameters\n\u001b[0;32m    221\u001b[0m model \u001b[39m=\u001b[39m \u001b[39mself\u001b[39m\u001b[39m.\u001b[39m_try_build(hp)\n\u001b[1;32m--> 222\u001b[0m results \u001b[39m=\u001b[39m \u001b[39mself\u001b[39m\u001b[39m.\u001b[39mhypermodel\u001b[39m.\u001b[39mfit(hp, model, \u001b[39m*\u001b[39margs, \u001b[39m*\u001b[39m\u001b[39m*\u001b[39mkwargs)\n\u001b[0;32m    223\u001b[0m tuner_utils\u001b[39m.\u001b[39mvalidate_trial_results(\n\u001b[0;32m    224\u001b[0m     results, \u001b[39mself\u001b[39m\u001b[39m.\u001b[39moracle\u001b[39m.\u001b[39mobjective, \u001b[39m\"\u001b[39m\u001b[39mHyperModel.fit()\u001b[39m\u001b[39m\"\u001b[39m\n\u001b[0;32m    225\u001b[0m )\n\u001b[0;32m    226\u001b[0m \u001b[39mreturn\u001b[39;00m results\n",
      "File \u001b[1;32mc:\\Users\\Afris\\miniconda3\\lib\\site-packages\\keras_tuner\\engine\\hypermodel.py:140\u001b[0m, in \u001b[0;36mHyperModel.fit\u001b[1;34m(self, hp, model, *args, **kwargs)\u001b[0m\n\u001b[0;32m    116\u001b[0m \u001b[39mdef\u001b[39;00m \u001b[39mfit\u001b[39m(\u001b[39mself\u001b[39m, hp, model, \u001b[39m*\u001b[39margs, \u001b[39m*\u001b[39m\u001b[39m*\u001b[39mkwargs):\n\u001b[0;32m    117\u001b[0m     \u001b[39m\"\"\"Train the model.\u001b[39;00m\n\u001b[0;32m    118\u001b[0m \n\u001b[0;32m    119\u001b[0m \u001b[39m    Args:\u001b[39;00m\n\u001b[1;32m   (...)\u001b[0m\n\u001b[0;32m    138\u001b[0m \u001b[39m        If return a float, it should be the `objective` value.\u001b[39;00m\n\u001b[0;32m    139\u001b[0m \u001b[39m    \"\"\"\u001b[39;00m\n\u001b[1;32m--> 140\u001b[0m     \u001b[39mreturn\u001b[39;00m model\u001b[39m.\u001b[39mfit(\u001b[39m*\u001b[39margs, \u001b[39m*\u001b[39m\u001b[39m*\u001b[39mkwargs)\n",
      "File \u001b[1;32mc:\\Users\\Afris\\miniconda3\\lib\\site-packages\\keras\\engine\\training.py:1184\u001b[0m, in \u001b[0;36mModel.fit\u001b[1;34m(self, x, y, batch_size, epochs, verbose, callbacks, validation_split, validation_data, shuffle, class_weight, sample_weight, initial_epoch, steps_per_epoch, validation_steps, validation_batch_size, validation_freq, max_queue_size, workers, use_multiprocessing)\u001b[0m\n\u001b[0;32m   1177\u001b[0m \u001b[39mwith\u001b[39;00m tf\u001b[39m.\u001b[39mprofiler\u001b[39m.\u001b[39mexperimental\u001b[39m.\u001b[39mTrace(\n\u001b[0;32m   1178\u001b[0m     \u001b[39m'\u001b[39m\u001b[39mtrain\u001b[39m\u001b[39m'\u001b[39m,\n\u001b[0;32m   1179\u001b[0m     epoch_num\u001b[39m=\u001b[39mepoch,\n\u001b[0;32m   1180\u001b[0m     step_num\u001b[39m=\u001b[39mstep,\n\u001b[0;32m   1181\u001b[0m     batch_size\u001b[39m=\u001b[39mbatch_size,\n\u001b[0;32m   1182\u001b[0m     _r\u001b[39m=\u001b[39m\u001b[39m1\u001b[39m):\n\u001b[0;32m   1183\u001b[0m   callbacks\u001b[39m.\u001b[39mon_train_batch_begin(step)\n\u001b[1;32m-> 1184\u001b[0m   tmp_logs \u001b[39m=\u001b[39m \u001b[39mself\u001b[39;49m\u001b[39m.\u001b[39;49mtrain_function(iterator)\n\u001b[0;32m   1185\u001b[0m   \u001b[39mif\u001b[39;00m data_handler\u001b[39m.\u001b[39mshould_sync:\n\u001b[0;32m   1186\u001b[0m     context\u001b[39m.\u001b[39masync_wait()\n",
      "File \u001b[1;32mc:\\Users\\Afris\\miniconda3\\lib\\site-packages\\tensorflow\\python\\eager\\def_function.py:885\u001b[0m, in \u001b[0;36mFunction.__call__\u001b[1;34m(self, *args, **kwds)\u001b[0m\n\u001b[0;32m    882\u001b[0m compiler \u001b[39m=\u001b[39m \u001b[39m\"\u001b[39m\u001b[39mxla\u001b[39m\u001b[39m\"\u001b[39m \u001b[39mif\u001b[39;00m \u001b[39mself\u001b[39m\u001b[39m.\u001b[39m_jit_compile \u001b[39melse\u001b[39;00m \u001b[39m\"\u001b[39m\u001b[39mnonXla\u001b[39m\u001b[39m\"\u001b[39m\n\u001b[0;32m    884\u001b[0m \u001b[39mwith\u001b[39;00m OptionalXlaContext(\u001b[39mself\u001b[39m\u001b[39m.\u001b[39m_jit_compile):\n\u001b[1;32m--> 885\u001b[0m   result \u001b[39m=\u001b[39m \u001b[39mself\u001b[39m\u001b[39m.\u001b[39m_call(\u001b[39m*\u001b[39margs, \u001b[39m*\u001b[39m\u001b[39m*\u001b[39mkwds)\n\u001b[0;32m    887\u001b[0m new_tracing_count \u001b[39m=\u001b[39m \u001b[39mself\u001b[39m\u001b[39m.\u001b[39mexperimental_get_tracing_count()\n\u001b[0;32m    888\u001b[0m without_tracing \u001b[39m=\u001b[39m (tracing_count \u001b[39m==\u001b[39m new_tracing_count)\n",
      "File \u001b[1;32mc:\\Users\\Afris\\miniconda3\\lib\\site-packages\\tensorflow\\python\\eager\\def_function.py:917\u001b[0m, in \u001b[0;36mFunction._call\u001b[1;34m(self, *args, **kwds)\u001b[0m\n\u001b[0;32m    914\u001b[0m   \u001b[39mself\u001b[39m\u001b[39m.\u001b[39m_lock\u001b[39m.\u001b[39mrelease()\n\u001b[0;32m    915\u001b[0m   \u001b[39m# In this case we have created variables on the first call, so we run the\u001b[39;00m\n\u001b[0;32m    916\u001b[0m   \u001b[39m# defunned version which is guaranteed to never create variables.\u001b[39;00m\n\u001b[1;32m--> 917\u001b[0m   \u001b[39mreturn\u001b[39;00m \u001b[39mself\u001b[39m\u001b[39m.\u001b[39m_stateless_fn(\u001b[39m*\u001b[39margs, \u001b[39m*\u001b[39m\u001b[39m*\u001b[39mkwds)  \u001b[39m# pylint: disable=not-callable\u001b[39;00m\n\u001b[0;32m    918\u001b[0m \u001b[39melif\u001b[39;00m \u001b[39mself\u001b[39m\u001b[39m.\u001b[39m_stateful_fn \u001b[39mis\u001b[39;00m \u001b[39mnot\u001b[39;00m \u001b[39mNone\u001b[39;00m:\n\u001b[0;32m    919\u001b[0m   \u001b[39m# Release the lock early so that multiple threads can perform the call\u001b[39;00m\n\u001b[0;32m    920\u001b[0m   \u001b[39m# in parallel.\u001b[39;00m\n\u001b[0;32m    921\u001b[0m   \u001b[39mself\u001b[39m\u001b[39m.\u001b[39m_lock\u001b[39m.\u001b[39mrelease()\n",
      "File \u001b[1;32mc:\\Users\\Afris\\miniconda3\\lib\\site-packages\\tensorflow\\python\\eager\\function.py:3039\u001b[0m, in \u001b[0;36mFunction.__call__\u001b[1;34m(self, *args, **kwargs)\u001b[0m\n\u001b[0;32m   3036\u001b[0m \u001b[39mwith\u001b[39;00m \u001b[39mself\u001b[39m\u001b[39m.\u001b[39m_lock:\n\u001b[0;32m   3037\u001b[0m   (graph_function,\n\u001b[0;32m   3038\u001b[0m    filtered_flat_args) \u001b[39m=\u001b[39m \u001b[39mself\u001b[39m\u001b[39m.\u001b[39m_maybe_define_function(args, kwargs)\n\u001b[1;32m-> 3039\u001b[0m \u001b[39mreturn\u001b[39;00m graph_function\u001b[39m.\u001b[39;49m_call_flat(\n\u001b[0;32m   3040\u001b[0m     filtered_flat_args, captured_inputs\u001b[39m=\u001b[39;49mgraph_function\u001b[39m.\u001b[39;49mcaptured_inputs)\n",
      "File \u001b[1;32mc:\\Users\\Afris\\miniconda3\\lib\\site-packages\\tensorflow\\python\\eager\\function.py:1963\u001b[0m, in \u001b[0;36mConcreteFunction._call_flat\u001b[1;34m(self, args, captured_inputs, cancellation_manager)\u001b[0m\n\u001b[0;32m   1959\u001b[0m possible_gradient_type \u001b[39m=\u001b[39m gradients_util\u001b[39m.\u001b[39mPossibleTapeGradientTypes(args)\n\u001b[0;32m   1960\u001b[0m \u001b[39mif\u001b[39;00m (possible_gradient_type \u001b[39m==\u001b[39m gradients_util\u001b[39m.\u001b[39mPOSSIBLE_GRADIENT_TYPES_NONE\n\u001b[0;32m   1961\u001b[0m     \u001b[39mand\u001b[39;00m executing_eagerly):\n\u001b[0;32m   1962\u001b[0m   \u001b[39m# No tape is watching; skip to running the function.\u001b[39;00m\n\u001b[1;32m-> 1963\u001b[0m   \u001b[39mreturn\u001b[39;00m \u001b[39mself\u001b[39m\u001b[39m.\u001b[39m_build_call_outputs(\u001b[39mself\u001b[39;49m\u001b[39m.\u001b[39;49m_inference_function\u001b[39m.\u001b[39;49mcall(\n\u001b[0;32m   1964\u001b[0m       ctx, args, cancellation_manager\u001b[39m=\u001b[39;49mcancellation_manager))\n\u001b[0;32m   1965\u001b[0m forward_backward \u001b[39m=\u001b[39m \u001b[39mself\u001b[39m\u001b[39m.\u001b[39m_select_forward_and_backward_functions(\n\u001b[0;32m   1966\u001b[0m     args,\n\u001b[0;32m   1967\u001b[0m     possible_gradient_type,\n\u001b[0;32m   1968\u001b[0m     executing_eagerly)\n\u001b[0;32m   1969\u001b[0m forward_function, args_with_tangents \u001b[39m=\u001b[39m forward_backward\u001b[39m.\u001b[39mforward()\n",
      "File \u001b[1;32mc:\\Users\\Afris\\miniconda3\\lib\\site-packages\\tensorflow\\python\\eager\\function.py:591\u001b[0m, in \u001b[0;36m_EagerDefinedFunction.call\u001b[1;34m(self, ctx, args, cancellation_manager)\u001b[0m\n\u001b[0;32m    589\u001b[0m \u001b[39mwith\u001b[39;00m _InterpolateFunctionError(\u001b[39mself\u001b[39m):\n\u001b[0;32m    590\u001b[0m   \u001b[39mif\u001b[39;00m cancellation_manager \u001b[39mis\u001b[39;00m \u001b[39mNone\u001b[39;00m:\n\u001b[1;32m--> 591\u001b[0m     outputs \u001b[39m=\u001b[39m execute\u001b[39m.\u001b[39;49mexecute(\n\u001b[0;32m    592\u001b[0m         \u001b[39mstr\u001b[39;49m(\u001b[39mself\u001b[39;49m\u001b[39m.\u001b[39;49msignature\u001b[39m.\u001b[39;49mname),\n\u001b[0;32m    593\u001b[0m         num_outputs\u001b[39m=\u001b[39;49m\u001b[39mself\u001b[39;49m\u001b[39m.\u001b[39;49m_num_outputs,\n\u001b[0;32m    594\u001b[0m         inputs\u001b[39m=\u001b[39;49margs,\n\u001b[0;32m    595\u001b[0m         attrs\u001b[39m=\u001b[39;49mattrs,\n\u001b[0;32m    596\u001b[0m         ctx\u001b[39m=\u001b[39;49mctx)\n\u001b[0;32m    597\u001b[0m   \u001b[39melse\u001b[39;00m:\n\u001b[0;32m    598\u001b[0m     outputs \u001b[39m=\u001b[39m execute\u001b[39m.\u001b[39mexecute_with_cancellation(\n\u001b[0;32m    599\u001b[0m         \u001b[39mstr\u001b[39m(\u001b[39mself\u001b[39m\u001b[39m.\u001b[39msignature\u001b[39m.\u001b[39mname),\n\u001b[0;32m    600\u001b[0m         num_outputs\u001b[39m=\u001b[39m\u001b[39mself\u001b[39m\u001b[39m.\u001b[39m_num_outputs,\n\u001b[1;32m   (...)\u001b[0m\n\u001b[0;32m    603\u001b[0m         ctx\u001b[39m=\u001b[39mctx,\n\u001b[0;32m    604\u001b[0m         cancellation_manager\u001b[39m=\u001b[39mcancellation_manager)\n",
      "File \u001b[1;32mc:\\Users\\Afris\\miniconda3\\lib\\site-packages\\tensorflow\\python\\eager\\execute.py:59\u001b[0m, in \u001b[0;36mquick_execute\u001b[1;34m(op_name, num_outputs, inputs, attrs, ctx, name)\u001b[0m\n\u001b[0;32m     57\u001b[0m \u001b[39mtry\u001b[39;00m:\n\u001b[0;32m     58\u001b[0m   ctx\u001b[39m.\u001b[39mensure_initialized()\n\u001b[1;32m---> 59\u001b[0m   tensors \u001b[39m=\u001b[39m pywrap_tfe\u001b[39m.\u001b[39;49mTFE_Py_Execute(ctx\u001b[39m.\u001b[39;49m_handle, device_name, op_name,\n\u001b[0;32m     60\u001b[0m                                       inputs, attrs, num_outputs)\n\u001b[0;32m     61\u001b[0m \u001b[39mexcept\u001b[39;00m core\u001b[39m.\u001b[39m_NotOkStatusException \u001b[39mas\u001b[39;00m e:\n\u001b[0;32m     62\u001b[0m   \u001b[39mif\u001b[39;00m name \u001b[39mis\u001b[39;00m \u001b[39mnot\u001b[39;00m \u001b[39mNone\u001b[39;00m:\n",
      "\u001b[1;31mKeyboardInterrupt\u001b[0m: "
     ]
    }
   ],
   "source": [
    "# search parameters \n",
    "tuner.search(x=[dem_train_df_egs.iloc[:,1:-3].values.astype(np.float32), train_images_pross.astype(np.float32)], \n",
    "\ty=dem_train_df_egs['label'].values,\n",
    "\tvalidation_data=([dem_val_df_egs.iloc[:,1:-3].values.astype(np.float32), val_images_pross.astype(np.float32)], dem_val_df_egs['label'].values),\n",
    "    epochs=10,\n",
    "    batch_size=32,\n",
    "    callbacks=[early]\n",
    "    )\n"
   ]
  },
  {
   "cell_type": "code",
   "execution_count": 30,
   "metadata": {},
   "outputs": [
    {
     "data": {
      "text/plain": [
       "{'input_activation': 'relu',\n",
       " 'num_layers': 4,\n",
       " 'activation_0': 'gelu',\n",
       " 'nodes_0': 21,\n",
       " 'activation_1': 'gelu',\n",
       " 'nodes_1': 30,\n",
       " 'activation_2': 'selu',\n",
       " 'nodes_2': 24,\n",
       " 'droprate': 0.30000000000000004,\n",
       " 'cnn_set1_num_layers': 4,\n",
       " 'cnn_set1_activation_0': 'relu',\n",
       " 'cnn_set1_nodes_0': 3500,\n",
       " 'cnn_set1_activation_1': 'relu',\n",
       " 'cnn_set1_nodes_1': 2500,\n",
       " 'cnn_set1_activation_2': 'relu',\n",
       " 'cnn_set1_nodes_2': 2000,\n",
       " 'learning_rate': 0.006209939317006995,\n",
       " 'epsilon': 1.5711053576416204e-06,\n",
       " 'cnn_set1_activation_3': 'selu',\n",
       " 'cnn_set1_nodes_3': 1000,\n",
       " 'activation_3': 'relu',\n",
       " 'nodes_3': 9,\n",
       " 'cnn_set1_activation_4': 'gelu',\n",
       " 'cnn_set1_nodes_4': 3000,\n",
       " 'activation_4': 'relu',\n",
       " 'nodes_4': 6,\n",
       " 'tuner/epochs': 10,\n",
       " 'tuner/initial_epoch': 4,\n",
       " 'tuner/bracket': 2,\n",
       " 'tuner/round': 2,\n",
       " 'tuner/trial_id': '0014'}"
      ]
     },
     "execution_count": 30,
     "metadata": {},
     "output_type": "execute_result"
    }
   ],
   "source": [
    "# check best parameter values\n",
    "best_params = tuner.get_best_hyperparameters()[0]\n",
    "best_params.values"
   ]
  },
  {
   "cell_type": "code",
   "execution_count": 31,
   "metadata": {},
   "outputs": [],
   "source": [
    "# get model with best parameters\n",
    "best_model = tuner.get_best_models(1)[0]"
   ]
  },
  {
   "cell_type": "code",
   "execution_count": 33,
   "metadata": {},
   "outputs": [
    {
     "name": "stdout",
     "output_type": "stream",
     "text": [
      "Epoch 1/20\n",
      "203/203 [==============================] - 446s 2s/step - loss: 0.4079 - accuracy: 0.8221 - val_loss: 0.4216 - val_accuracy: 0.8292\n",
      "Epoch 2/20\n",
      "203/203 [==============================] - 442s 2s/step - loss: 0.4027 - accuracy: 0.8228 - val_loss: 0.3852 - val_accuracy: 0.8306\n",
      "Epoch 3/20\n",
      "203/203 [==============================] - 441s 2s/step - loss: 0.3976 - accuracy: 0.8239 - val_loss: 0.3808 - val_accuracy: 0.8292\n",
      "Epoch 4/20\n",
      "203/203 [==============================] - 435s 2s/step - loss: 0.3942 - accuracy: 0.8248 - val_loss: 0.3826 - val_accuracy: 0.8111\n",
      "Epoch 5/20\n",
      "203/203 [==============================] - 439s 2s/step - loss: 0.3892 - accuracy: 0.8293 - val_loss: 0.3728 - val_accuracy: 0.8333\n",
      "Epoch 6/20\n",
      "203/203 [==============================] - 436s 2s/step - loss: 0.3859 - accuracy: 0.8304 - val_loss: 0.3713 - val_accuracy: 0.8194\n",
      "Epoch 7/20\n",
      "203/203 [==============================] - 434s 2s/step - loss: 0.3865 - accuracy: 0.8289 - val_loss: 0.3685 - val_accuracy: 0.8278\n",
      "Epoch 8/20\n",
      "203/203 [==============================] - 429s 2s/step - loss: 0.3803 - accuracy: 0.8326 - val_loss: 0.3707 - val_accuracy: 0.8250\n",
      "Epoch 00008: early stopping\n"
     ]
    }
   ],
   "source": [
    "# fit that model to training data\n",
    "ktuner_egs_model = best_model.fit(\n",
    "\tx=[dem_train_df_egs.iloc[:,1:-3].values.astype(np.float32), train_images_pross.astype(np.float32)], \n",
    "\ty=dem_train_df_egs['label'].values,\n",
    "\tvalidation_data=([dem_val_df_egs.iloc[:,1:-3].values.astype(np.float32), val_images_pross.astype(np.float32)], dem_val_df_egs['label'].values),\n",
    "\tcallbacks=early,\n",
    "\tepochs=20,\n",
    "\tbatch_size=32)"
   ]
  },
  {
   "cell_type": "code",
   "execution_count": 35,
   "metadata": {},
   "outputs": [
    {
     "name": "stdout",
     "output_type": "stream",
     "text": [
      "57/57 [==============================] - 110s 2s/step - loss: 0.3898 - accuracy: 0.8161\n"
     ]
    },
    {
     "data": {
      "text/plain": [
       "[0.3898319602012634, 0.8161110877990723]"
      ]
     },
     "execution_count": 35,
     "metadata": {},
     "output_type": "execute_result"
    }
   ],
   "source": [
    "# test KT model on test data\n",
    "tuner_eval_results = best_model.evaluate(x=[dem_test_df_egs.iloc[:,1:-3].values.astype(np.float32), test_images_pross.astype(np.float32)],\n",
    "y=dem_test_df_egs['label'].values\n",
    "# y=y_test\n",
    ")\n",
    "\n",
    "tuner_eval_results"
   ]
  },
  {
   "cell_type": "code",
   "execution_count": 36,
   "metadata": {},
   "outputs": [
    {
     "data": {
      "image/png": "[encoded data removed]",
      "text/plain": [
       "<Figure size 432x288 with 2 Axes>"
      ]
     },
     "metadata": {
      "needs_background": "light"
     },
     "output_type": "display_data"
    },
    {
     "name": "stdout",
     "output_type": "stream",
     "text": [
      "              precision    recall  f1-score   support\n",
      "\n",
      "       False       0.86      0.86      0.86      1198\n",
      "        True       0.73      0.72      0.72       602\n",
      "\n",
      "    accuracy                           0.82      1800\n",
      "   macro avg       0.79      0.79      0.79      1800\n",
      "weighted avg       0.82      0.82      0.82      1800\n",
      "\n"
     ]
    }
   ],
   "source": [
    "gen_report(best_model, \n",
    "[dem_test_df_egs.iloc[:,1:-3].values.astype(np.float32), test_images_pross.astype(np.float32)],\n",
    "dem_test_df_egs['label'].values,\n",
    "'Confusion Matrix - KT Model with Green Districts'\n",
    ")"
   ]
  },
  {
   "cell_type": "code",
   "execution_count": 47,
   "metadata": {},
   "outputs": [
    {
     "data": {
      "image/png": "[encoded data removed]",
      "text/plain": [
       "<Figure size 432x288 with 2 Axes>"
      ]
     },
     "metadata": {
      "needs_background": "light"
     },
     "output_type": "display_data"
    },
    {
     "name": "stdout",
     "output_type": "stream",
     "text": [
      "              precision    recall  f1-score   support\n",
      "\n",
      "       False       0.87      0.90      0.89      1711\n",
      "        True       0.82      0.77      0.80       989\n",
      "\n",
      "    accuracy                           0.86      2700\n",
      "   macro avg       0.85      0.84      0.84      2700\n",
      "weighted avg       0.85      0.86      0.85      2700\n",
      "\n"
     ]
    }
   ],
   "source": [
    "gen_report(model, \n",
    "[dem_test_df_egs.iloc[:,1:-3].values.astype(np.float32), test_images_pross.astype(np.float32)],\n",
    "dem_test_df_egs['label'].values,\n",
    "'Confusion Matrix - Red Districts, Basic Model'\n",
    ")"
   ]
  },
  {
   "cell_type": "code",
   "execution_count": null,
   "metadata": {},
   "outputs": [],
   "source": []
  }
 ],
 "metadata": {
  "kernelspec": {
   "display_name": "Python 3.9.12 ('base')",
   "language": "python",
   "name": "python3"
  },
  "language_info": {
   "codemirror_mode": {
    "name": "ipython",
    "version": 3
   },
   "file_extension": ".py",
   "mimetype": "text/x-python",
   "name": "python",
   "nbconvert_exporter": "python",
   "pygments_lexer": "ipython3",
   "version": "3.9.12"
  },
  "orig_nbformat": 4,
  "vscode": {
   "interpreter": {
    "hash": "992af9430b13ada16c30f2ac47cf0d744148870fc875adc12e54130686e91185"
   }
  }
 },
 "nbformat": 4,
 "nbformat_minor": 2
}
