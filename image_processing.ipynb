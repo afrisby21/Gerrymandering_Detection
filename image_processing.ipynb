{
 "cells": [
  {
   "cell_type": "code",
   "execution_count": 1,
   "metadata": {},
   "outputs": [],
   "source": [
    "# import libraries\n",
    "import os\n",
    "import matplotlib.pyplot as plt\n",
    "import keras\n",
    "import tensorflow as tf\n",
    "from tensorflow.keras.preprocessing.image import ImageDataGenerator\n",
    "import numpy as np\n",
    "import cv2\n",
    "import pandas as pd"
   ]
  },
  {
   "cell_type": "code",
   "execution_count": 2,
   "metadata": {},
   "outputs": [],
   "source": [
    "# set directory and image color\n",
    "img_dir = 'Outputs/images/blue/'\n",
    "color = 'blue'"
   ]
  },
  {
   "cell_type": "code",
   "execution_count": 3,
   "metadata": {},
   "outputs": [],
   "source": [
    "# image preprocessing - separate generators in case I want to test images different from train/validation images\n",
    "data_generator = ImageDataGenerator(\n",
    "    #width_shift_range=0.1,\n",
    "    # shear_range=0.1,\n",
    "    zoom_range=0.3,\n",
    "    # brightness_range=[0.5,1.5],\n",
    "    samplewise_center=True,\n",
    "    samplewise_std_normalization=True\n",
    ")\n",
    "\n",
    "test_generator = ImageDataGenerator(\n",
    "    zoom_range=0.3,\n",
    "    samplewise_center=True,\n",
    "    samplewise_std_normalization=True\n",
    ")"
   ]
  },
  {
   "cell_type": "code",
   "execution_count": 4,
   "metadata": {},
   "outputs": [
    {
     "name": "stdout",
     "output_type": "stream",
     "text": [
      "Found 3888 images belonging to 2 classes.\n",
      "Found 432 images belonging to 2 classes.\n",
      "Found 1080 images belonging to 2 classes.\n"
     ]
    }
   ],
   "source": [
    "# create train/test/val images with generators\n",
    "\n",
    "data_train = data_generator.flow_from_directory(img_dir+'train/sub/', target_size=(224, 224), \n",
    "                            batch_size=32, class_mode='binary', \n",
    "                            shuffle=False,\n",
    "                            save_to_dir=img_dir+'train/processed',\n",
    "                            # save_prefix='processed_'\n",
    "                            )\n",
    "data_val = data_generator.flow_from_directory(img_dir+'val/sub/', target_size=(224, 224), \n",
    "                            batch_size=32, class_mode='binary', \n",
    "                            shuffle=False,\n",
    "                            save_to_dir=img_dir+'val/processed',\n",
    "                            # save_prefix='processed_'\n",
    "                            )\n",
    "\n",
    "data_test = test_generator.flow_from_directory(img_dir+'test/sub/', target_size=(224,224), \n",
    "                            batch_size=32, class_mode='binary',\n",
    "                            shuffle=False,\n",
    "                            save_to_dir=img_dir+'test/processed',\n",
    "                            # save_prefix='processed_'\n",
    "                            )"
   ]
  },
  {
   "cell_type": "code",
   "execution_count": 5,
   "metadata": {},
   "outputs": [],
   "source": [
    "# apply image transformations \n",
    "\n",
    "for i in range(len(data_val)):\n",
    "    data_val.next()\n",
    "\n",
    "for i in range(len(data_train)):\n",
    "    data_train.next()\n",
    "\n",
    "for i in range(len(data_test)):\n",
    "    data_test.next()"
   ]
  },
  {
   "cell_type": "code",
   "execution_count": 6,
   "metadata": {},
   "outputs": [],
   "source": [
    "# get original image file names\n",
    "\n",
    "val_images = [file.split('\\\\')[1] for file in data_val.filenames]\n",
    "test_images = [file.split('\\\\')[1] for file in data_test.filenames]\n",
    "train_images = [file.split('\\\\')[1] for file in data_train.filenames]"
   ]
  },
  {
   "cell_type": "code",
   "execution_count": 7,
   "metadata": {},
   "outputs": [],
   "source": [
    "# get new, processed image file names\n",
    "tst_list = sorted(os.listdir(path=img_dir+'test/processed'), key=lambda x: int(str(x)[1:].split('_')[0]))\n",
    "train_list = sorted(os.listdir(path=img_dir+'train/processed'), key=lambda x: int(str(x)[1:].split('_')[0]))\n",
    "val_list = sorted(os.listdir(path=img_dir+'val/processed'), key=lambda x: int(str(x)[1:].split('_')[0]))\n",
    "\n",
    "# create dataframes matching the original image file names with the new processed image file names\n",
    "test_df = pd.DataFrame(list(zip(test_images,tst_list)), columns=['image_file', 'process_image'])\n",
    "train_df = pd.DataFrame(list(zip(train_images,train_list)), columns=['image_file', 'process_image'])\n",
    "val_df = pd.DataFrame(list(zip(val_images,val_list)), columns=['image_file', 'process_image'])\n",
    "\n",
    "# save dataframes\n",
    "test_df.to_csv(f'Outputs/{color}_processed_test_df.csv')\n",
    "train_df.to_csv(f'Outputs/{color}_processed_train_df.csv')\n",
    "val_df.to_csv(f'Outputs/{color}_processed_val_df.csv')"
   ]
  },
  {
   "cell_type": "code",
   "execution_count": null,
   "metadata": {},
   "outputs": [],
   "source": []
  }
 ],
 "metadata": {
  "kernelspec": {
   "display_name": "Python 3.9.12 ('base')",
   "language": "python",
   "name": "python3"
  },
  "language_info": {
   "codemirror_mode": {
    "name": "ipython",
    "version": 3
   },
   "file_extension": ".py",
   "mimetype": "text/x-python",
   "name": "python",
   "nbconvert_exporter": "python",
   "pygments_lexer": "ipython3",
   "version": "3.9.12"
  },
  "orig_nbformat": 4,
  "vscode": {
   "interpreter": {
    "hash": "992af9430b13ada16c30f2ac47cf0d744148870fc875adc12e54130686e91185"
   }
  }
 },
 "nbformat": 4,
 "nbformat_minor": 2
}
